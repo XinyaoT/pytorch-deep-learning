{
  "nbformat": 4,
  "nbformat_minor": 0,
  "metadata": {
    "colab": {
      "provenance": [],
      "toc_visible": true,
      "gpuType": "T4",
      "authorship_tag": "ABX9TyP2anQKmKX6DvbEzJxxucQ8",
      "include_colab_link": true
    },
    "kernelspec": {
      "name": "python3",
      "display_name": "Python 3"
    },
    "language_info": {
      "name": "python"
    },
    "accelerator": "GPU"
  },
  "cells": [
    {
      "cell_type": "markdown",
      "metadata": {
        "id": "view-in-github",
        "colab_type": "text"
      },
      "source": [
        "<a href=\"https://colab.research.google.com/github/XinyaoT/pytorch-deep-learning/blob/main/mynotes/00_pytorch.ipynb\" target=\"_parent\"><img src=\"https://colab.research.google.com/assets/colab-badge.svg\" alt=\"Open In Colab\"/></a>"
      ]
    },
    {
      "cell_type": "code",
      "execution_count": null,
      "metadata": {
        "colab": {
          "base_uri": "https://localhost:8080/"
        },
        "id": "3h9fh9pq8s-o",
        "outputId": "b49a2d79-90b6-48db-f951-97144719135f"
      },
      "outputs": [
        {
          "output_type": "stream",
          "name": "stdout",
          "text": [
            "2.5.1+cu121\n"
          ]
        }
      ],
      "source": [
        "import torch\n",
        "import pandas\n",
        "import numpy as np\n",
        "print(torch.__version__)"
      ]
    },
    {
      "cell_type": "code",
      "source": [
        "!nvidia-smi"
      ],
      "metadata": {
        "colab": {
          "base_uri": "https://localhost:8080/"
        },
        "id": "a4nrWxdd9kd-",
        "outputId": "60f7c1d4-936a-437b-e0e0-ed2804c65dd1"
      },
      "execution_count": null,
      "outputs": [
        {
          "output_type": "stream",
          "name": "stdout",
          "text": [
            "Thu Nov 21 13:45:17 2024       \n",
            "+---------------------------------------------------------------------------------------+\n",
            "| NVIDIA-SMI 535.104.05             Driver Version: 535.104.05   CUDA Version: 12.2     |\n",
            "|-----------------------------------------+----------------------+----------------------+\n",
            "| GPU  Name                 Persistence-M | Bus-Id        Disp.A | Volatile Uncorr. ECC |\n",
            "| Fan  Temp   Perf          Pwr:Usage/Cap |         Memory-Usage | GPU-Util  Compute M. |\n",
            "|                                         |                      |               MIG M. |\n",
            "|=========================================+======================+======================|\n",
            "|   0  Tesla T4                       Off | 00000000:00:04.0 Off |                    0 |\n",
            "| N/A   45C    P8               9W /  70W |      0MiB / 15360MiB |      0%      Default |\n",
            "|                                         |                      |                  N/A |\n",
            "+-----------------------------------------+----------------------+----------------------+\n",
            "                                                                                         \n",
            "+---------------------------------------------------------------------------------------+\n",
            "| Processes:                                                                            |\n",
            "|  GPU   GI   CI        PID   Type   Process name                            GPU Memory |\n",
            "|        ID   ID                                                             Usage      |\n",
            "|=======================================================================================|\n",
            "|  No running processes found                                                           |\n",
            "+---------------------------------------------------------------------------------------+\n"
          ]
        }
      ]
    },
    {
      "cell_type": "markdown",
      "source": [
        "## tensor\n",
        "### create tensor"
      ],
      "metadata": {
        "id": "UPbqeLei_qCu"
      }
    },
    {
      "cell_type": "code",
      "source": [
        "# scalar\n",
        "scalar = torch.tensor(7)\n",
        "scalar"
      ],
      "metadata": {
        "colab": {
          "base_uri": "https://localhost:8080/"
        },
        "id": "qdgEf1GZ_tkE",
        "outputId": "57522ba0-dc3b-444c-c3e8-83d14efce73e"
      },
      "execution_count": null,
      "outputs": [
        {
          "output_type": "execute_result",
          "data": {
            "text/plain": [
              "tensor(7)"
            ]
          },
          "metadata": {},
          "execution_count": 3
        }
      ]
    },
    {
      "cell_type": "code",
      "source": [
        "scalar.ndim"
      ],
      "metadata": {
        "colab": {
          "base_uri": "https://localhost:8080/"
        },
        "id": "Ec0O308bAQtl",
        "outputId": "e0b8b16a-29bd-466c-cee8-79315b6474a3"
      },
      "execution_count": null,
      "outputs": [
        {
          "output_type": "execute_result",
          "data": {
            "text/plain": [
              "0"
            ]
          },
          "metadata": {},
          "execution_count": 4
        }
      ]
    },
    {
      "cell_type": "code",
      "source": [
        "scalar.item"
      ],
      "metadata": {
        "colab": {
          "base_uri": "https://localhost:8080/"
        },
        "id": "N1O34RiMAfN4",
        "outputId": "79efb223-e80a-4309-f73e-1fdcbd3aeb3d"
      },
      "execution_count": null,
      "outputs": [
        {
          "output_type": "execute_result",
          "data": {
            "text/plain": [
              "<function Tensor.item>"
            ]
          },
          "metadata": {},
          "execution_count": 5
        }
      ]
    },
    {
      "cell_type": "code",
      "source": [
        "# vector\n",
        "vector = torch.tensor([7,7])\n",
        "vector"
      ],
      "metadata": {
        "colab": {
          "base_uri": "https://localhost:8080/"
        },
        "id": "rxFw4xdsAk48",
        "outputId": "ac7524d3-0232-4ba0-9d70-964a6cbcd46c"
      },
      "execution_count": null,
      "outputs": [
        {
          "output_type": "execute_result",
          "data": {
            "text/plain": [
              "tensor([7, 7])"
            ]
          },
          "metadata": {},
          "execution_count": 6
        }
      ]
    },
    {
      "cell_type": "code",
      "source": [
        "vector.ndim"
      ],
      "metadata": {
        "colab": {
          "base_uri": "https://localhost:8080/"
        },
        "id": "8bqo178tAt_w",
        "outputId": "c3e5e7af-545a-4a84-dfe9-579770d3ac4d"
      },
      "execution_count": null,
      "outputs": [
        {
          "output_type": "execute_result",
          "data": {
            "text/plain": [
              "1"
            ]
          },
          "metadata": {},
          "execution_count": 7
        }
      ]
    },
    {
      "cell_type": "code",
      "source": [
        "vector.shape"
      ],
      "metadata": {
        "colab": {
          "base_uri": "https://localhost:8080/"
        },
        "id": "2-VR6GT5Aw6w",
        "outputId": "27db1a11-7a9b-4eae-eefe-8cb2d5422260"
      },
      "execution_count": null,
      "outputs": [
        {
          "output_type": "execute_result",
          "data": {
            "text/plain": [
              "torch.Size([2])"
            ]
          },
          "metadata": {},
          "execution_count": 8
        }
      ]
    },
    {
      "cell_type": "code",
      "source": [
        "# matrix\n",
        "matrix = torch.tensor([[7,8],[9,10]])\n",
        "matrix"
      ],
      "metadata": {
        "colab": {
          "base_uri": "https://localhost:8080/"
        },
        "id": "mobHUNnpA2jp",
        "outputId": "716c03da-0380-40c9-a70d-b4abd29702d6"
      },
      "execution_count": null,
      "outputs": [
        {
          "output_type": "execute_result",
          "data": {
            "text/plain": [
              "tensor([[ 7,  8],\n",
              "        [ 9, 10]])"
            ]
          },
          "metadata": {},
          "execution_count": 6
        }
      ]
    },
    {
      "cell_type": "code",
      "source": [
        "matrix.shape,matrix.size()"
      ],
      "metadata": {
        "colab": {
          "base_uri": "https://localhost:8080/"
        },
        "id": "B3I_wNAYBOLr",
        "outputId": "03625a58-d103-4fba-d5e1-f5d6104633e8"
      },
      "execution_count": null,
      "outputs": [
        {
          "output_type": "execute_result",
          "data": {
            "text/plain": [
              "(torch.Size([2, 2]), torch.Size([2, 2]))"
            ]
          },
          "metadata": {},
          "execution_count": 8
        }
      ]
    },
    {
      "cell_type": "markdown",
      "source": [
        "###Random tensor\n"
      ],
      "metadata": {
        "id": "6LbCUpfu307y"
      }
    },
    {
      "cell_type": "code",
      "source": [
        "# creat random tensor of size (3,4)\n",
        "random_tensor = torch.rand(3,4)\n",
        "random_tensor.ndim"
      ],
      "metadata": {
        "colab": {
          "base_uri": "https://localhost:8080/"
        },
        "id": "nkUn5NiD37oS",
        "outputId": "ec6753af-3fc3-400e-cd64-b22aac09b19e"
      },
      "execution_count": null,
      "outputs": [
        {
          "output_type": "execute_result",
          "data": {
            "text/plain": [
              "2"
            ]
          },
          "metadata": {},
          "execution_count": 10
        }
      ]
    },
    {
      "cell_type": "markdown",
      "source": [
        "###zero and ones"
      ],
      "metadata": {
        "id": "Em6KKJ8p6m6X"
      }
    },
    {
      "cell_type": "code",
      "source": [
        "zero = torch.zeros(size =(3,4))\n",
        "zero"
      ],
      "metadata": {
        "colab": {
          "base_uri": "https://localhost:8080/"
        },
        "id": "Kfn3VsQE6q9C",
        "outputId": "020d0046-87af-46b4-8ecf-68c507c86291"
      },
      "execution_count": null,
      "outputs": [
        {
          "output_type": "execute_result",
          "data": {
            "text/plain": [
              "tensor([[0., 0., 0., 0.],\n",
              "        [0., 0., 0., 0.],\n",
              "        [0., 0., 0., 0.]])"
            ]
          },
          "metadata": {},
          "execution_count": 14
        }
      ]
    },
    {
      "cell_type": "code",
      "source": [
        "ones = torch.ones(size = (3,4))\n",
        "ones"
      ],
      "metadata": {
        "colab": {
          "base_uri": "https://localhost:8080/"
        },
        "id": "u2--E-BY61WO",
        "outputId": "f47f3dd0-fc0d-4f52-a670-1c1f0834418d"
      },
      "execution_count": null,
      "outputs": [
        {
          "output_type": "execute_result",
          "data": {
            "text/plain": [
              "tensor([[1., 1., 1., 1.],\n",
              "        [1., 1., 1., 1.],\n",
              "        [1., 1., 1., 1.]])"
            ]
          },
          "metadata": {},
          "execution_count": 15
        }
      ]
    },
    {
      "cell_type": "code",
      "source": [],
      "metadata": {
        "id": "AJwRAzA17abi"
      },
      "execution_count": null,
      "outputs": []
    },
    {
      "cell_type": "markdown",
      "source": [
        "### arange of tensor"
      ],
      "metadata": {
        "id": "qoGWop_M7b1c"
      }
    },
    {
      "cell_type": "code",
      "source": [
        "# use torch.arange()\n",
        "one_to_ten = torch.arange(0,10)\n",
        "torch.arange(start = 0,end = 1000,step = 77)\n",
        "\n"
      ],
      "metadata": {
        "colab": {
          "base_uri": "https://localhost:8080/"
        },
        "id": "hkVKNqqA7kYC",
        "outputId": "9fd9854a-a878-425c-827a-2c58bff5cd14"
      },
      "execution_count": null,
      "outputs": [
        {
          "output_type": "execute_result",
          "data": {
            "text/plain": [
              "tensor([  0,  77, 154, 231, 308, 385, 462, 539, 616, 693, 770, 847, 924])"
            ]
          },
          "metadata": {},
          "execution_count": 21
        }
      ]
    },
    {
      "cell_type": "code",
      "source": [
        "# tensor like----相同的形状的全零张量\n",
        "ten_zeros = torch.zeros_like(input =one_to_ten )\n",
        "ten_zeros"
      ],
      "metadata": {
        "colab": {
          "base_uri": "https://localhost:8080/"
        },
        "id": "JxQ4jVK-7tEc",
        "outputId": "d3a1f650-eb7f-487c-bd18-3b108392e4fc"
      },
      "execution_count": null,
      "outputs": [
        {
          "output_type": "execute_result",
          "data": {
            "text/plain": [
              "tensor([0, 0, 0, 0, 0, 0, 0, 0, 0, 0])"
            ]
          },
          "metadata": {},
          "execution_count": 22
        }
      ]
    },
    {
      "cell_type": "code",
      "source": [],
      "metadata": {
        "id": "9CFG4-1k8HxT"
      },
      "execution_count": null,
      "outputs": []
    },
    {
      "cell_type": "markdown",
      "source": [
        "###张量的datatype\n",
        "####**note**:三个深度学习常见报错\n",
        "1. tensor not right type——tensor.dtype\n",
        "2. tensor not right shape——tensor.shape\n",
        "3. tensor not right device——tensor.device"
      ],
      "metadata": {
        "id": "ybzMxXBr_23M"
      }
    },
    {
      "cell_type": "code",
      "source": [
        "# float32\n",
        "float_32_tensor = torch.tensor([3,9,6])\n",
        "float_32_tensor"
      ],
      "metadata": {
        "colab": {
          "base_uri": "https://localhost:8080/"
        },
        "id": "BV6LSLjJAAmN",
        "outputId": "51bc71b3-45f8-4c18-ad1e-9ac645333a3e"
      },
      "execution_count": null,
      "outputs": [
        {
          "output_type": "execute_result",
          "data": {
            "text/plain": [
              "tensor([3, 9, 6])"
            ]
          },
          "metadata": {},
          "execution_count": 24
        }
      ]
    },
    {
      "cell_type": "code",
      "source": [
        "float_16_tensor = float_32_tensor.type(torch.float16)  #把32的精度转换成16的精度\n",
        "float_16_tensor"
      ],
      "metadata": {
        "colab": {
          "base_uri": "https://localhost:8080/"
        },
        "id": "W6pbxM6AA9su",
        "outputId": "0e21c654-68bc-42d8-efc9-38689b1683e1"
      },
      "execution_count": null,
      "outputs": [
        {
          "output_type": "execute_result",
          "data": {
            "text/plain": [
              "tensor([3., 9., 6.], dtype=torch.float16)"
            ]
          },
          "metadata": {},
          "execution_count": 26
        }
      ]
    },
    {
      "cell_type": "code",
      "source": [],
      "metadata": {
        "id": "nq2PO6GaCYeN"
      },
      "execution_count": null,
      "outputs": []
    },
    {
      "cell_type": "markdown",
      "source": [
        "###张量的三个属性\n"
      ],
      "metadata": {
        "id": "vd1nz4kjDPlQ"
      }
    },
    {
      "cell_type": "code",
      "source": [
        "some_tensor = torch.rand(3,4)\n",
        "print(some_tensor)\n",
        "print(f\"datatype of tensor:{some_tensor.dtype}\")\n",
        "print(f\"shape of tensor:{some_tensor.shape}\")\n",
        "print(f\"device of tensor:{some_tensor.device}\")"
      ],
      "metadata": {
        "colab": {
          "base_uri": "https://localhost:8080/"
        },
        "id": "IoVO8TvfDXTs",
        "outputId": "fbda7291-0bd0-4b60-a55d-251a8c6b718b"
      },
      "execution_count": null,
      "outputs": [
        {
          "output_type": "stream",
          "name": "stdout",
          "text": [
            "tensor([[0.7135, 0.5199, 0.6948, 0.3347],\n",
            "        [0.8949, 0.5887, 0.5372, 0.0578],\n",
            "        [0.1070, 0.7754, 0.2862, 0.5001]])\n",
            "datatype of tensor:torch.float32\n",
            "shape of tensor:torch.Size([3, 4])\n",
            "device of tensor:cpu\n"
          ]
        }
      ]
    },
    {
      "cell_type": "markdown",
      "source": [
        "###张量的计算\n",
        "1. 加法\n",
        "2. 减法\n",
        "3. 乘法\n",
        "4. 除法\n",
        "5. 矩阵运算"
      ],
      "metadata": {
        "id": "EfUCp6bfD6M9"
      }
    },
    {
      "cell_type": "code",
      "source": [
        "tensor = torch.tensor([1,2,3])\n",
        "tensor"
      ],
      "metadata": {
        "colab": {
          "base_uri": "https://localhost:8080/"
        },
        "id": "KeDt32aoET3K",
        "outputId": "6dbca36a-43ca-471d-acca-ff00b6a84967"
      },
      "execution_count": null,
      "outputs": [
        {
          "output_type": "execute_result",
          "data": {
            "text/plain": [
              "tensor([1, 2, 3])"
            ]
          },
          "metadata": {},
          "execution_count": 28
        }
      ]
    },
    {
      "cell_type": "code",
      "source": [
        "tensor+10"
      ],
      "metadata": {
        "colab": {
          "base_uri": "https://localhost:8080/"
        },
        "id": "8Fp5p-FGEbS5",
        "outputId": "518508f4-81a5-4125-caba-148bc7434c21"
      },
      "execution_count": null,
      "outputs": [
        {
          "output_type": "execute_result",
          "data": {
            "text/plain": [
              "tensor([11, 12, 13])"
            ]
          },
          "metadata": {},
          "execution_count": 29
        }
      ]
    },
    {
      "cell_type": "code",
      "source": [
        "tensor * 10"
      ],
      "metadata": {
        "colab": {
          "base_uri": "https://localhost:8080/"
        },
        "id": "GY8eQHkMEdtK",
        "outputId": "3ae51aa8-6d54-45f1-f894-956e07656adc"
      },
      "execution_count": null,
      "outputs": [
        {
          "output_type": "execute_result",
          "data": {
            "text/plain": [
              "tensor([10, 20, 30])"
            ]
          },
          "metadata": {},
          "execution_count": 30
        }
      ]
    },
    {
      "cell_type": "code",
      "source": [
        "tensor -10"
      ],
      "metadata": {
        "colab": {
          "base_uri": "https://localhost:8080/"
        },
        "id": "mdg0sx1NEfCq",
        "outputId": "10a3cfcc-29ca-4243-f572-a6853aaea38c"
      },
      "execution_count": null,
      "outputs": [
        {
          "output_type": "execute_result",
          "data": {
            "text/plain": [
              "tensor([-9, -8, -7])"
            ]
          },
          "metadata": {},
          "execution_count": 31
        }
      ]
    },
    {
      "cell_type": "code",
      "source": [
        "torch.add(tensor,10)"
      ],
      "metadata": {
        "colab": {
          "base_uri": "https://localhost:8080/"
        },
        "id": "8CBeQRWGEhLP",
        "outputId": "274bb3ee-9fed-4952-dbfb-0386d215d1c3"
      },
      "execution_count": null,
      "outputs": [
        {
          "output_type": "execute_result",
          "data": {
            "text/plain": [
              "tensor([11, 12, 13])"
            ]
          },
          "metadata": {},
          "execution_count": 32
        }
      ]
    },
    {
      "cell_type": "code",
      "source": [
        "torch.mul(tensor,10)"
      ],
      "metadata": {
        "colab": {
          "base_uri": "https://localhost:8080/"
        },
        "id": "0UzaB5kqEssM",
        "outputId": "194c6ee9-7205-41da-ff3a-448924cbe19d"
      },
      "execution_count": null,
      "outputs": [
        {
          "output_type": "execute_result",
          "data": {
            "text/plain": [
              "tensor([10, 20, 30])"
            ]
          },
          "metadata": {},
          "execution_count": 33
        }
      ]
    },
    {
      "cell_type": "markdown",
      "source": [
        "###矩阵运算\n",
        "1. 外积——对应位置相乘\n",
        "2. 内积（点积）\n"
      ],
      "metadata": {
        "id": "zx2OiPIDFO8x"
      }
    },
    {
      "cell_type": "code",
      "source": [
        "tensor * tensor\n",
        "print(f\"equal:{tensor*tensor}\")"
      ],
      "metadata": {
        "colab": {
          "base_uri": "https://localhost:8080/"
        },
        "id": "ceuQMI-zFtvJ",
        "outputId": "06b75140-4501-4ee5-abb9-bd69f1f49c6a"
      },
      "execution_count": null,
      "outputs": [
        {
          "output_type": "stream",
          "name": "stdout",
          "text": [
            "equal:tensor([1, 4, 9])\n"
          ]
        }
      ]
    },
    {
      "cell_type": "code",
      "source": [
        "%%time\n",
        "# tensor.matmul(tensor)\n",
        "torch.matmul(tensor,tensor)"
      ],
      "metadata": {
        "colab": {
          "base_uri": "https://localhost:8080/"
        },
        "id": "oMwDhsBtFyM4",
        "outputId": "38185f6b-4699-4702-ab0e-98e0cbdf2852"
      },
      "execution_count": null,
      "outputs": [
        {
          "output_type": "stream",
          "name": "stdout",
          "text": [
            "CPU times: user 91 µs, sys: 0 ns, total: 91 µs\n",
            "Wall time: 95.8 µs\n"
          ]
        },
        {
          "output_type": "execute_result",
          "data": {
            "text/plain": [
              "tensor(14)"
            ]
          },
          "metadata": {},
          "execution_count": 41
        }
      ]
    },
    {
      "cell_type": "markdown",
      "source": [
        "###矩阵乘法的三个规则\n",
        "1. 内部维度必须相同\n",
        "2. 结果和外部维度相同"
      ],
      "metadata": {
        "id": "Gsjl8AWUH992"
      }
    },
    {
      "cell_type": "code",
      "source": [
        "# 转置——transpose\n",
        "tensor_A = torch.tensor([[1,2],[3,4],[5,6]])\n",
        "tensor_B = torch.tensor([[7,10],[8,11],[9,12]])\n",
        "tensor_B.T"
      ],
      "metadata": {
        "colab": {
          "base_uri": "https://localhost:8080/"
        },
        "id": "4Wm61nduI5_E",
        "outputId": "a64d4059-2545-4dab-a811-01a80889234b"
      },
      "execution_count": null,
      "outputs": [
        {
          "output_type": "execute_result",
          "data": {
            "text/plain": [
              "tensor([[ 7,  8,  9],\n",
              "        [10, 11, 12]])"
            ]
          },
          "metadata": {},
          "execution_count": 42
        }
      ]
    },
    {
      "cell_type": "code",
      "source": [
        "tensor_mul= torch.mm(tensor_A,tensor_B.T)"
      ],
      "metadata": {
        "id": "6J9aXwW3JUvY"
      },
      "execution_count": null,
      "outputs": []
    },
    {
      "cell_type": "code",
      "source": [
        "tensor_mul"
      ],
      "metadata": {
        "colab": {
          "base_uri": "https://localhost:8080/"
        },
        "id": "Awp9XfmqJayE",
        "outputId": "5dd11b32-ab36-4772-ac46-3c3cd42138a7"
      },
      "execution_count": null,
      "outputs": [
        {
          "output_type": "execute_result",
          "data": {
            "text/plain": [
              "tensor([[ 27,  30,  33],\n",
              "        [ 61,  68,  75],\n",
              "        [ 95, 106, 117]])"
            ]
          },
          "metadata": {},
          "execution_count": 47
        }
      ]
    },
    {
      "cell_type": "markdown",
      "source": [
        "###找最大、最小、平均、求和"
      ],
      "metadata": {
        "id": "z_HTNnuGKH8l"
      }
    },
    {
      "cell_type": "code",
      "source": [
        "torch.max(tensor_mul)\n"
      ],
      "metadata": {
        "colab": {
          "base_uri": "https://localhost:8080/"
        },
        "id": "S6kdWTL4KPZE",
        "outputId": "0558b7ed-ac5d-4854-8ce2-b4e20d4a43fd"
      },
      "execution_count": null,
      "outputs": [
        {
          "output_type": "execute_result",
          "data": {
            "text/plain": [
              "tensor(117)"
            ]
          },
          "metadata": {},
          "execution_count": 46
        }
      ]
    },
    {
      "cell_type": "code",
      "source": [
        "torch.min(tensor_mul)\n"
      ],
      "metadata": {
        "colab": {
          "base_uri": "https://localhost:8080/"
        },
        "id": "dwvURh5xKa2I",
        "outputId": "cf9674c5-742c-45a8-e7a0-5c8a3b9c4c68"
      },
      "execution_count": null,
      "outputs": [
        {
          "output_type": "execute_result",
          "data": {
            "text/plain": [
              "tensor(27)"
            ]
          },
          "metadata": {},
          "execution_count": 48
        }
      ]
    },
    {
      "cell_type": "code",
      "source": [
        "# 以下两种表达方式相同\n",
        "torch.mean(tensor_mul.type(torch.float32))\n"
      ],
      "metadata": {
        "colab": {
          "base_uri": "https://localhost:8080/"
        },
        "id": "GqmRjRMiKlQF",
        "outputId": "eb1aa6e7-6a90-47ad-f7a2-35b567855965"
      },
      "execution_count": null,
      "outputs": [
        {
          "output_type": "execute_result",
          "data": {
            "text/plain": [
              "tensor(68.)"
            ]
          },
          "metadata": {},
          "execution_count": 50
        }
      ]
    },
    {
      "cell_type": "code",
      "source": [
        "tensor_mul.type(torch.float32).mean()"
      ],
      "metadata": {
        "colab": {
          "base_uri": "https://localhost:8080/"
        },
        "id": "H9gwYRsOKpA9",
        "outputId": "e0b2aa28-eb3c-4fc3-9fe1-d944f7e5bbcf"
      },
      "execution_count": null,
      "outputs": [
        {
          "output_type": "execute_result",
          "data": {
            "text/plain": [
              "tensor(68.)"
            ]
          },
          "metadata": {},
          "execution_count": 52
        }
      ]
    },
    {
      "cell_type": "code",
      "source": [
        "tensor_mul.sum()"
      ],
      "metadata": {
        "colab": {
          "base_uri": "https://localhost:8080/"
        },
        "id": "cYgdUKCwLRJw",
        "outputId": "ab205f78-afce-4ac2-8338-609dac215a9b"
      },
      "execution_count": null,
      "outputs": [
        {
          "output_type": "execute_result",
          "data": {
            "text/plain": [
              "tensor(612)"
            ]
          },
          "metadata": {},
          "execution_count": 53
        }
      ]
    },
    {
      "cell_type": "code",
      "source": [],
      "metadata": {
        "id": "dvTlRWOoLpFj"
      },
      "execution_count": null,
      "outputs": []
    },
    {
      "cell_type": "markdown",
      "source": [
        "###找到位置的最大和最小"
      ],
      "metadata": {
        "id": "debW9Cl8L62h"
      }
    },
    {
      "cell_type": "code",
      "source": [
        "tensor_mul"
      ],
      "metadata": {
        "colab": {
          "base_uri": "https://localhost:8080/"
        },
        "id": "Tgw9gMbqL-vq",
        "outputId": "4346e591-3cb9-4f2a-f3a3-e14685fa7464"
      },
      "execution_count": null,
      "outputs": [
        {
          "output_type": "execute_result",
          "data": {
            "text/plain": [
              "tensor([[ 27,  30,  33],\n",
              "        [ 61,  68,  75],\n",
              "        [ 95, 106, 117]])"
            ]
          },
          "metadata": {},
          "execution_count": 55
        }
      ]
    },
    {
      "cell_type": "code",
      "source": [
        "tensor_mul.argmin()"
      ],
      "metadata": {
        "colab": {
          "base_uri": "https://localhost:8080/"
        },
        "id": "ssb7dyaEMCkm",
        "outputId": "17d24409-47a3-457b-ca15-bab9f1939339"
      },
      "execution_count": null,
      "outputs": [
        {
          "output_type": "execute_result",
          "data": {
            "text/plain": [
              "tensor(0)"
            ]
          },
          "metadata": {},
          "execution_count": 56
        }
      ]
    },
    {
      "cell_type": "code",
      "source": [
        "tensor_mul.argmax()"
      ],
      "metadata": {
        "colab": {
          "base_uri": "https://localhost:8080/"
        },
        "id": "dAMuWV1IMJki",
        "outputId": "8cd69b94-3d6f-4ef9-fe7e-ae58f628ac1f"
      },
      "execution_count": null,
      "outputs": [
        {
          "output_type": "execute_result",
          "data": {
            "text/plain": [
              "tensor(8)"
            ]
          },
          "metadata": {},
          "execution_count": 57
        }
      ]
    },
    {
      "cell_type": "code",
      "source": [
        "tensor_mul[0][0]"
      ],
      "metadata": {
        "colab": {
          "base_uri": "https://localhost:8080/"
        },
        "id": "o1L4Oi3bMNQq",
        "outputId": "d6a8d095-5baa-4cd8-82f9-d78dd4bb5279"
      },
      "execution_count": null,
      "outputs": [
        {
          "output_type": "execute_result",
          "data": {
            "text/plain": [
              "tensor(27)"
            ]
          },
          "metadata": {},
          "execution_count": 58
        }
      ]
    },
    {
      "cell_type": "code",
      "source": [
        "\n"
      ],
      "metadata": {
        "id": "5jZWK7gQMWKi"
      },
      "execution_count": null,
      "outputs": []
    },
    {
      "cell_type": "markdown",
      "source": [
        "### reshape、stacking、squeezing、unsqueezing tensor\n",
        "1. reshape的形状要与原来的形状兼容——乘积相同\n",
        "2. view函数创建出来的reshape后的向量和和原始向量共享存储空间，所以他改变，原始向量也会改变\n",
        "3. stack堆叠函数，堆叠的所有函数必须拥有相同的形状\n",
        "4. permute维度的重排列,也是共享内存的，重排列前后的都是"
      ],
      "metadata": {
        "id": "Q1huSHK8ROVx"
      }
    },
    {
      "cell_type": "code",
      "source": [
        "\n",
        "import torch\n",
        "x = torch.arange(1.,10.)\n",
        "x = torch.arange(start = 1.,end = 10.,step=1)\n",
        "x,x.shape"
      ],
      "metadata": {
        "colab": {
          "base_uri": "https://localhost:8080/"
        },
        "id": "7JSlSiypRWnu",
        "outputId": "71ede98c-3af7-457a-fd17-fd93d593a52d"
      },
      "execution_count": null,
      "outputs": [
        {
          "output_type": "execute_result",
          "data": {
            "text/plain": [
              "(tensor([1., 2., 3., 4., 5., 6., 7., 8., 9.]), torch.Size([9]))"
            ]
          },
          "metadata": {},
          "execution_count": 60
        }
      ]
    },
    {
      "cell_type": "code",
      "source": [
        "x_reshaped = x.reshape(1,9)\n",
        "x_reshaped,x_reshaped.shape"
      ],
      "metadata": {
        "colab": {
          "base_uri": "https://localhost:8080/"
        },
        "id": "nv8LzV39R5Ea",
        "outputId": "05a7780d-d126-4db5-d8c0-f7d8edd033ff"
      },
      "execution_count": null,
      "outputs": [
        {
          "output_type": "execute_result",
          "data": {
            "text/plain": [
              "(tensor([[1., 2., 3., 4., 5., 6., 7., 8., 9.]]), torch.Size([1, 9]))"
            ]
          },
          "metadata": {},
          "execution_count": 62
        }
      ]
    },
    {
      "cell_type": "code",
      "source": [
        "x_reshaped = x.reshape(3,3)\n",
        "x_reshaped,x_reshaped.shape"
      ],
      "metadata": {
        "colab": {
          "base_uri": "https://localhost:8080/"
        },
        "id": "6zhdr5RpSWvw",
        "outputId": "ddc24715-fff8-46b7-a9ac-243193aa43e8"
      },
      "execution_count": null,
      "outputs": [
        {
          "output_type": "execute_result",
          "data": {
            "text/plain": [
              "(tensor([[1., 2., 3.],\n",
              "         [4., 5., 6.],\n",
              "         [7., 8., 9.]]),\n",
              " torch.Size([3, 3]))"
            ]
          },
          "metadata": {},
          "execution_count": 64
        }
      ]
    },
    {
      "cell_type": "code",
      "source": [
        "x_reshaped = x.reshape(10,1)\n",
        "x_reshaped,x_reshaped.shape"
      ],
      "metadata": {
        "colab": {
          "base_uri": "https://localhost:8080/",
          "height": 163
        },
        "id": "0HdVgmqzSzVN",
        "outputId": "e618b056-ef40-455e-aa75-ebaf1def2ac7"
      },
      "execution_count": null,
      "outputs": [
        {
          "output_type": "error",
          "ename": "RuntimeError",
          "evalue": "shape '[10, 1]' is invalid for input of size 9",
          "traceback": [
            "\u001b[0;31m---------------------------------------------------------------------------\u001b[0m",
            "\u001b[0;31mRuntimeError\u001b[0m                              Traceback (most recent call last)",
            "\u001b[0;32m<ipython-input-65-3dd332178310>\u001b[0m in \u001b[0;36m<cell line: 1>\u001b[0;34m()\u001b[0m\n\u001b[0;32m----> 1\u001b[0;31m \u001b[0mx_reshaped\u001b[0m \u001b[0;34m=\u001b[0m \u001b[0mx\u001b[0m\u001b[0;34m.\u001b[0m\u001b[0mreshape\u001b[0m\u001b[0;34m(\u001b[0m\u001b[0;36m10\u001b[0m\u001b[0;34m,\u001b[0m\u001b[0;36m1\u001b[0m\u001b[0;34m)\u001b[0m\u001b[0;34m\u001b[0m\u001b[0;34m\u001b[0m\u001b[0m\n\u001b[0m\u001b[1;32m      2\u001b[0m \u001b[0mx_reshaped\u001b[0m\u001b[0;34m,\u001b[0m\u001b[0mx_reshaped\u001b[0m\u001b[0;34m.\u001b[0m\u001b[0mshape\u001b[0m\u001b[0;34m\u001b[0m\u001b[0;34m\u001b[0m\u001b[0m\n",
            "\u001b[0;31mRuntimeError\u001b[0m: shape '[10, 1]' is invalid for input of size 9"
          ]
        }
      ]
    },
    {
      "cell_type": "code",
      "source": [
        "# view\n",
        "z = x.view(1,9)\n",
        "z,z.shape"
      ],
      "metadata": {
        "colab": {
          "base_uri": "https://localhost:8080/"
        },
        "id": "tnSVD0RwS60j",
        "outputId": "d51b4249-1f61-42f9-8da2-7bdac269e379"
      },
      "execution_count": null,
      "outputs": [
        {
          "output_type": "execute_result",
          "data": {
            "text/plain": [
              "(tensor([[1., 2., 3., 4., 5., 6., 7., 8., 9.]]), torch.Size([1, 9]))"
            ]
          },
          "metadata": {},
          "execution_count": 66
        }
      ]
    },
    {
      "cell_type": "code",
      "source": [
        "z[:,0] = 5\n",
        "z,x"
      ],
      "metadata": {
        "colab": {
          "base_uri": "https://localhost:8080/"
        },
        "id": "_EQeqRmNUlDU",
        "outputId": "eab80d6b-9394-49ba-deb0-59e4c1a289bf"
      },
      "execution_count": null,
      "outputs": [
        {
          "output_type": "execute_result",
          "data": {
            "text/plain": [
              "(tensor([[5., 2., 3., 4., 5., 6., 7., 8., 9.]]),\n",
              " tensor([5., 2., 3., 4., 5., 6., 7., 8., 9.]))"
            ]
          },
          "metadata": {},
          "execution_count": 67
        }
      ]
    },
    {
      "cell_type": "code",
      "source": [
        "# stack\n",
        "x_stacked = torch.stack([x,x,x,x],dim = 1)\n",
        "x_stacked"
      ],
      "metadata": {
        "colab": {
          "base_uri": "https://localhost:8080/"
        },
        "id": "j3k_i7AsUroU",
        "outputId": "5c9d89dc-3777-4ccc-f3ce-dd748bf6379c"
      },
      "execution_count": null,
      "outputs": [
        {
          "output_type": "execute_result",
          "data": {
            "text/plain": [
              "tensor([[5., 5., 5., 5.],\n",
              "        [2., 2., 2., 2.],\n",
              "        [3., 3., 3., 3.],\n",
              "        [4., 4., 4., 4.],\n",
              "        [5., 5., 5., 5.],\n",
              "        [6., 6., 6., 6.],\n",
              "        [7., 7., 7., 7.],\n",
              "        [8., 8., 8., 8.],\n",
              "        [9., 9., 9., 9.]])"
            ]
          },
          "metadata": {},
          "execution_count": 69
        }
      ]
    },
    {
      "cell_type": "code",
      "source": [
        "# squeeze\n",
        "x_reshaped.shape\n"
      ],
      "metadata": {
        "colab": {
          "base_uri": "https://localhost:8080/"
        },
        "id": "IIhN2z93VRn9",
        "outputId": "adfede16-5a91-44f2-83f2-02cb385a3f88"
      },
      "execution_count": null,
      "outputs": [
        {
          "output_type": "execute_result",
          "data": {
            "text/plain": [
              "torch.Size([3, 3])"
            ]
          },
          "metadata": {},
          "execution_count": 70
        }
      ]
    },
    {
      "cell_type": "code",
      "source": [
        "x_reshaped.squeeze().shape"
      ],
      "metadata": {
        "colab": {
          "base_uri": "https://localhost:8080/"
        },
        "id": "7caoGjpTWnG5",
        "outputId": "42ecaa29-8666-4122-aadd-06330f103304"
      },
      "execution_count": null,
      "outputs": [
        {
          "output_type": "execute_result",
          "data": {
            "text/plain": [
              "torch.Size([3, 3])"
            ]
          },
          "metadata": {},
          "execution_count": 72
        }
      ]
    },
    {
      "cell_type": "code",
      "source": [
        "x_reshaped=x_reshaped.reshape(1,9)\n"
      ],
      "metadata": {
        "id": "1740_8RHWtuM"
      },
      "execution_count": null,
      "outputs": []
    },
    {
      "cell_type": "code",
      "source": [
        "x_squeezed = x_reshaped.squeeze()"
      ],
      "metadata": {
        "id": "-He7WQGAXIMX"
      },
      "execution_count": null,
      "outputs": []
    },
    {
      "cell_type": "code",
      "source": [
        "x_unsqueezed = x_squeezed.unsqueeze(dim = 1)\n",
        "print(f\"previous tensor:{x_squeezed}\")\n",
        "print(f\"previous shape:{x_squeezed.shape}\")\n",
        "print(f\"new tensor:{x_unsqueezed}\")\n",
        "print(f\"new shape:{x_unsqueezed.shape}\")\n"
      ],
      "metadata": {
        "colab": {
          "base_uri": "https://localhost:8080/"
        },
        "id": "armfxqMwXYvU",
        "outputId": "995d4f9d-c671-4f13-c22c-ceacdb533518"
      },
      "execution_count": null,
      "outputs": [
        {
          "output_type": "stream",
          "name": "stdout",
          "text": [
            "previous tensor:tensor([5., 2., 3., 4., 5., 6., 7., 8., 9.])\n",
            "previous shape:torch.Size([9])\n",
            "new tensor:tensor([[5.],\n",
            "        [2.],\n",
            "        [3.],\n",
            "        [4.],\n",
            "        [5.],\n",
            "        [6.],\n",
            "        [7.],\n",
            "        [8.],\n",
            "        [9.]])\n",
            "new shape:torch.Size([9, 1])\n"
          ]
        }
      ]
    },
    {
      "cell_type": "code",
      "source": [
        "# permute\n",
        "x_original = torch.rand(size = (224,224,3))#长、宽、通道\n",
        "x_permuted = x_original.permute(2,0,1)# 通道、长、宽\n",
        "print(f\"previous shape:{x_original.shape}\")\n",
        "print(f\"new shape:{x_permuted.shape}\")"
      ],
      "metadata": {
        "colab": {
          "base_uri": "https://localhost:8080/"
        },
        "id": "ohBsZ1g4YMA3",
        "outputId": "88c92cd8-8f1b-4b2d-9fed-01196b8b9c43"
      },
      "execution_count": null,
      "outputs": [
        {
          "output_type": "stream",
          "name": "stdout",
          "text": [
            "previous shape:torch.Size([224, 224, 3])\n",
            "new shape:torch.Size([3, 224, 224])\n"
          ]
        }
      ]
    },
    {
      "cell_type": "code",
      "source": [
        "x_permuted[0,0,0] = 1\n",
        "x_permuted,x_original\n"
      ],
      "metadata": {
        "colab": {
          "base_uri": "https://localhost:8080/"
        },
        "id": "Zj81l_VHZvsW",
        "outputId": "5a7f18a5-c71c-429e-b260-c40faafcd459"
      },
      "execution_count": null,
      "outputs": [
        {
          "output_type": "execute_result",
          "data": {
            "text/plain": [
              "(tensor([[[1.0000, 0.5267, 0.7782,  ..., 0.4785, 0.8949, 0.6317],\n",
              "          [0.2638, 0.2553, 0.1962,  ..., 0.0128, 0.3719, 0.3658],\n",
              "          [0.7799, 0.2908, 0.2354,  ..., 0.1225, 0.6817, 0.1423],\n",
              "          ...,\n",
              "          [0.4876, 0.2660, 0.9973,  ..., 0.3907, 0.4342, 0.6213],\n",
              "          [0.6904, 0.6539, 0.5652,  ..., 0.9896, 0.7531, 0.5640],\n",
              "          [0.5393, 0.9007, 0.3417,  ..., 0.3182, 0.9344, 0.3603]],\n",
              " \n",
              "         [[0.6411, 0.6431, 0.1769,  ..., 0.2168, 0.8943, 0.6602],\n",
              "          [0.2004, 0.5065, 0.3044,  ..., 0.9241, 0.3065, 0.7589],\n",
              "          [0.7812, 0.9514, 0.9578,  ..., 0.6512, 0.3450, 0.5582],\n",
              "          ...,\n",
              "          [0.5336, 0.9711, 0.9311,  ..., 0.3591, 0.6602, 0.4667],\n",
              "          [0.9885, 0.7545, 0.0710,  ..., 0.5401, 0.4359, 0.8647],\n",
              "          [0.7051, 0.2397, 0.7125,  ..., 0.8818, 0.5437, 0.0992]],\n",
              " \n",
              "         [[0.7162, 0.2202, 0.0549,  ..., 0.5606, 0.7504, 0.5146],\n",
              "          [0.0483, 0.4553, 0.9549,  ..., 0.5584, 0.4705, 0.3437],\n",
              "          [0.8512, 0.1027, 0.6312,  ..., 0.3800, 0.7664, 0.6000],\n",
              "          ...,\n",
              "          [0.1931, 0.7120, 0.0280,  ..., 0.9988, 0.7049, 0.4104],\n",
              "          [0.5220, 0.0010, 0.2672,  ..., 0.2189, 0.4606, 0.5574],\n",
              "          [0.6642, 0.9811, 0.4991,  ..., 0.9079, 0.6987, 0.3925]]]),\n",
              " tensor([[[1.0000, 0.6411, 0.7162],\n",
              "          [0.5267, 0.6431, 0.2202],\n",
              "          [0.7782, 0.1769, 0.0549],\n",
              "          ...,\n",
              "          [0.4785, 0.2168, 0.5606],\n",
              "          [0.8949, 0.8943, 0.7504],\n",
              "          [0.6317, 0.6602, 0.5146]],\n",
              " \n",
              "         [[0.2638, 0.2004, 0.0483],\n",
              "          [0.2553, 0.5065, 0.4553],\n",
              "          [0.1962, 0.3044, 0.9549],\n",
              "          ...,\n",
              "          [0.0128, 0.9241, 0.5584],\n",
              "          [0.3719, 0.3065, 0.4705],\n",
              "          [0.3658, 0.7589, 0.3437]],\n",
              " \n",
              "         [[0.7799, 0.7812, 0.8512],\n",
              "          [0.2908, 0.9514, 0.1027],\n",
              "          [0.2354, 0.9578, 0.6312],\n",
              "          ...,\n",
              "          [0.1225, 0.6512, 0.3800],\n",
              "          [0.6817, 0.3450, 0.7664],\n",
              "          [0.1423, 0.5582, 0.6000]],\n",
              " \n",
              "         ...,\n",
              " \n",
              "         [[0.4876, 0.5336, 0.1931],\n",
              "          [0.2660, 0.9711, 0.7120],\n",
              "          [0.9973, 0.9311, 0.0280],\n",
              "          ...,\n",
              "          [0.3907, 0.3591, 0.9988],\n",
              "          [0.4342, 0.6602, 0.7049],\n",
              "          [0.6213, 0.4667, 0.4104]],\n",
              " \n",
              "         [[0.6904, 0.9885, 0.5220],\n",
              "          [0.6539, 0.7545, 0.0010],\n",
              "          [0.5652, 0.0710, 0.2672],\n",
              "          ...,\n",
              "          [0.9896, 0.5401, 0.2189],\n",
              "          [0.7531, 0.4359, 0.4606],\n",
              "          [0.5640, 0.8647, 0.5574]],\n",
              " \n",
              "         [[0.5393, 0.7051, 0.6642],\n",
              "          [0.9007, 0.2397, 0.9811],\n",
              "          [0.3417, 0.7125, 0.4991],\n",
              "          ...,\n",
              "          [0.3182, 0.8818, 0.9079],\n",
              "          [0.9344, 0.5437, 0.6987],\n",
              "          [0.3603, 0.0992, 0.3925]]]))"
            ]
          },
          "metadata": {},
          "execution_count": 83
        }
      ]
    },
    {
      "cell_type": "markdown",
      "source": [
        "### 索引\n"
      ],
      "metadata": {
        "id": "vZGLLks4atfV"
      }
    },
    {
      "cell_type": "code",
      "source": [
        "import torch\n",
        "x  = torch.arange(1,10).reshape(1,3,3)"
      ],
      "metadata": {
        "id": "NIzOvVpbaxVx"
      },
      "execution_count": null,
      "outputs": []
    },
    {
      "cell_type": "code",
      "source": [
        "x"
      ],
      "metadata": {
        "colab": {
          "base_uri": "https://localhost:8080/"
        },
        "id": "vOjRzyxOa_dS",
        "outputId": "1ed70192-88ce-4aed-cc84-5a8b8302ea37"
      },
      "execution_count": null,
      "outputs": [
        {
          "output_type": "execute_result",
          "data": {
            "text/plain": [
              "tensor([[[1, 2, 3],\n",
              "         [4, 5, 6],\n",
              "         [7, 8, 9]]])"
            ]
          },
          "metadata": {},
          "execution_count": 87
        }
      ]
    },
    {
      "cell_type": "code",
      "source": [
        "x[0]"
      ],
      "metadata": {
        "colab": {
          "base_uri": "https://localhost:8080/"
        },
        "id": "J3IcF-1JbBky",
        "outputId": "e4750a85-6110-4bf1-84f5-af47a3894b47"
      },
      "execution_count": null,
      "outputs": [
        {
          "output_type": "execute_result",
          "data": {
            "text/plain": [
              "tensor([[1, 2, 3],\n",
              "        [4, 5, 6],\n",
              "        [7, 8, 9]])"
            ]
          },
          "metadata": {},
          "execution_count": 88
        }
      ]
    },
    {
      "cell_type": "code",
      "source": [
        "x[:,:,0]\n",
        "# :表示对应维度全部都取"
      ],
      "metadata": {
        "colab": {
          "base_uri": "https://localhost:8080/"
        },
        "id": "ZXlyPpd6bJ9y",
        "outputId": "59109d80-a981-4316-d38c-006fab63e914"
      },
      "execution_count": null,
      "outputs": [
        {
          "output_type": "execute_result",
          "data": {
            "text/plain": [
              "tensor([[1, 4, 7]])"
            ]
          },
          "metadata": {},
          "execution_count": 90
        }
      ]
    },
    {
      "cell_type": "code",
      "source": [
        "x[0]"
      ],
      "metadata": {
        "colab": {
          "base_uri": "https://localhost:8080/"
        },
        "id": "fFN45rMebMYp",
        "outputId": "73ae00b0-d6ca-4cbc-aee0-fac4c81a1cd1"
      },
      "execution_count": null,
      "outputs": [
        {
          "output_type": "execute_result",
          "data": {
            "text/plain": [
              "tensor([[1, 2, 3],\n",
              "        [4, 5, 6],\n",
              "        [7, 8, 9]])"
            ]
          },
          "metadata": {},
          "execution_count": 93
        }
      ]
    },
    {
      "cell_type": "code",
      "source": [
        "x[:,0:1,1]"
      ],
      "metadata": {
        "colab": {
          "base_uri": "https://localhost:8080/"
        },
        "id": "9wyMJftTcep8",
        "outputId": "468215af-5eac-4e9b-dfdb-da23642b3966"
      },
      "execution_count": null,
      "outputs": [
        {
          "output_type": "execute_result",
          "data": {
            "text/plain": [
              "tensor([[2]])"
            ]
          },
          "metadata": {},
          "execution_count": 94
        }
      ]
    },
    {
      "cell_type": "code",
      "source": [
        "# 对比以下的两种取法：\n",
        "#通过下面的例子理解：全部都取，0是只去了一维，这两个取下来tensor的size不同\n",
        "x[:,1,1]"
      ],
      "metadata": {
        "colab": {
          "base_uri": "https://localhost:8080/"
        },
        "id": "pEH1ANWZdviv",
        "outputId": "d07958cf-449d-4cfd-fb9b-68d1327a386f"
      },
      "execution_count": null,
      "outputs": [
        {
          "output_type": "execute_result",
          "data": {
            "text/plain": [
              "tensor([5])"
            ]
          },
          "metadata": {},
          "execution_count": 95
        }
      ]
    },
    {
      "cell_type": "markdown",
      "source": [],
      "metadata": {
        "id": "RmBPfdB0fr46"
      }
    },
    {
      "cell_type": "code",
      "source": [
        "x[0,1,1]"
      ],
      "metadata": {
        "colab": {
          "base_uri": "https://localhost:8080/"
        },
        "id": "W5W6hOOSeQKR",
        "outputId": "d9f83250-ea9e-4c47-a5f9-b9db8cd0052f"
      },
      "execution_count": null,
      "outputs": [
        {
          "output_type": "execute_result",
          "data": {
            "text/plain": [
              "tensor(5)"
            ]
          },
          "metadata": {},
          "execution_count": 96
        }
      ]
    },
    {
      "cell_type": "code",
      "source": [
        "# challenge\n",
        "# 9\n",
        "x"
      ],
      "metadata": {
        "colab": {
          "base_uri": "https://localhost:8080/"
        },
        "id": "lC0lTDFqeT3H",
        "outputId": "9991df18-5139-4795-a553-d481d29861c8"
      },
      "execution_count": null,
      "outputs": [
        {
          "output_type": "execute_result",
          "data": {
            "text/plain": [
              "tensor([[[1, 2, 3],\n",
              "         [4, 5, 6],\n",
              "         [7, 8, 9]]])"
            ]
          },
          "metadata": {},
          "execution_count": 97
        }
      ]
    },
    {
      "cell_type": "code",
      "source": [
        "x[0,2,2]"
      ],
      "metadata": {
        "colab": {
          "base_uri": "https://localhost:8080/"
        },
        "id": "30np8lFYfv-B",
        "outputId": "1f4510c0-af73-4d36-9050-019434b91592"
      },
      "execution_count": null,
      "outputs": [
        {
          "output_type": "execute_result",
          "data": {
            "text/plain": [
              "tensor(9)"
            ]
          },
          "metadata": {},
          "execution_count": 98
        }
      ]
    },
    {
      "cell_type": "code",
      "source": [
        "x[:,2,2]"
      ],
      "metadata": {
        "colab": {
          "base_uri": "https://localhost:8080/"
        },
        "id": "WQcF4zfEf6vf",
        "outputId": "32b4da73-5767-438f-9af7-324b2d19443a"
      },
      "execution_count": null,
      "outputs": [
        {
          "output_type": "execute_result",
          "data": {
            "text/plain": [
              "tensor([9])"
            ]
          },
          "metadata": {},
          "execution_count": 99
        }
      ]
    },
    {
      "cell_type": "code",
      "source": [
        "# 3.6.9\n",
        "x[:,:,2]"
      ],
      "metadata": {
        "colab": {
          "base_uri": "https://localhost:8080/"
        },
        "id": "OSnhxslsgEUr",
        "outputId": "96ae9d0d-af59-426d-8ef0-6b9e6658b1ab"
      },
      "execution_count": null,
      "outputs": [
        {
          "output_type": "execute_result",
          "data": {
            "text/plain": [
              "tensor([[3, 6, 9]])"
            ]
          },
          "metadata": {},
          "execution_count": 100
        }
      ]
    },
    {
      "cell_type": "code",
      "source": [],
      "metadata": {
        "id": "d-tsBhrjgO0s"
      },
      "execution_count": null,
      "outputs": []
    },
    {
      "cell_type": "markdown",
      "source": [
        "##numpy & tensor\n",
        "1. numpy->tensor:torch.from_numpy(ndarry)\n",
        "* numpy默认float64，tensor默认float32\n",
        "* 采用这种方法转换后，原始数据共享内存，改变ndarry，tensor也会改变\n",
        "2. tensor->numpy:torch.Tensor.numpy()\n",
        "* 与上述现象一致，包括共享内存和运算的内存机制\n"
      ],
      "metadata": {
        "id": "tDSeQrFfgxhG"
      }
    },
    {
      "cell_type": "code",
      "source": [
        "1.\n",
        "import torch\n",
        "import numpy as np\n",
        "array = np.arange(1.0,8.0)\n",
        "tensor = torch.from_numpy(array)\n",
        "array,tensor"
      ],
      "metadata": {
        "colab": {
          "base_uri": "https://localhost:8080/"
        },
        "id": "rcMRvquxh61D",
        "outputId": "2491cc0a-da07-431b-a763-3bfa70b803a5"
      },
      "execution_count": null,
      "outputs": [
        {
          "output_type": "execute_result",
          "data": {
            "text/plain": [
              "(array([1., 2., 3., 4., 5., 6., 7.]),\n",
              " tensor([1., 2., 3., 4., 5., 6., 7.], dtype=torch.float64))"
            ]
          },
          "metadata": {},
          "execution_count": 101
        }
      ]
    },
    {
      "cell_type": "code",
      "source": [
        "array.dtype,tensor.dtype\n",
        "torch.arange(1.0,8.0).dtype"
      ],
      "metadata": {
        "colab": {
          "base_uri": "https://localhost:8080/"
        },
        "id": "0eXTFWQuiDMK",
        "outputId": "bc5fe26a-dd70-4223-c461-01da0bffacb5"
      },
      "execution_count": null,
      "outputs": [
        {
          "output_type": "execute_result",
          "data": {
            "text/plain": [
              "torch.float32"
            ]
          },
          "metadata": {},
          "execution_count": 105
        }
      ]
    },
    {
      "cell_type": "code",
      "source": [
        "array[0] = 5\n",
        "array,tensor"
      ],
      "metadata": {
        "colab": {
          "base_uri": "https://localhost:8080/"
        },
        "id": "pUuE-PK5iP2A",
        "outputId": "ee12dca8-7c72-4b26-fe05-2d45414fe840"
      },
      "execution_count": null,
      "outputs": [
        {
          "output_type": "execute_result",
          "data": {
            "text/plain": [
              "(array([5., 2., 3., 4., 5., 6., 7.]),\n",
              " tensor([5., 2., 3., 4., 5., 6., 7.], dtype=torch.float64))"
            ]
          },
          "metadata": {},
          "execution_count": 107
        }
      ]
    },
    {
      "cell_type": "code",
      "source": [
        "# array运算不会改变tensor\n",
        "array+1,tensor"
      ],
      "metadata": {
        "colab": {
          "base_uri": "https://localhost:8080/"
        },
        "id": "tyckUskjjE0D",
        "outputId": "d7ae4ecc-0a3e-4e07-81cc-cfbbf479e871"
      },
      "execution_count": null,
      "outputs": [
        {
          "output_type": "execute_result",
          "data": {
            "text/plain": [
              "(array([6., 3., 4., 5., 6., 7., 8.]),\n",
              " tensor([5., 2., 3., 4., 5., 6., 7.], dtype=torch.float64))"
            ]
          },
          "metadata": {},
          "execution_count": 108
        }
      ]
    },
    {
      "cell_type": "markdown",
      "source": [
        "####解释上述现象：\n",
        "在 NumPy 中，执行 array + 1 并不会直接修改原数组的值，而是创建一个新的数组，用于存放计算结果。这种操作会在内存中重新分配一块区域存储新数组，而不是在原数组上进行修改。\n",
        "所以内存上还是共享的"
      ],
      "metadata": {
        "id": "Ep5XY89Lld0w"
      }
    },
    {
      "cell_type": "code",
      "source": [
        "# tensor->numpy\n",
        "tensor = torch.ones(7)\n",
        "numpy_tensor = tensor.numpy()\n",
        "tensor,numpy_tensor"
      ],
      "metadata": {
        "colab": {
          "base_uri": "https://localhost:8080/"
        },
        "id": "MDw4tfB0lltl",
        "outputId": "81ee8b75-6edf-43c0-98e9-708de17c8ef3"
      },
      "execution_count": null,
      "outputs": [
        {
          "output_type": "execute_result",
          "data": {
            "text/plain": [
              "(tensor([1., 1., 1., 1., 1., 1., 1.]),\n",
              " array([1., 1., 1., 1., 1., 1., 1.], dtype=float32))"
            ]
          },
          "metadata": {},
          "execution_count": 109
        }
      ]
    },
    {
      "cell_type": "code",
      "source": [
        "numpy_tensor.dtype"
      ],
      "metadata": {
        "colab": {
          "base_uri": "https://localhost:8080/"
        },
        "id": "T21DDeuplzpv",
        "outputId": "fc710403-0b86-4a3d-b367-882b3e2a6260"
      },
      "execution_count": null,
      "outputs": [
        {
          "output_type": "execute_result",
          "data": {
            "text/plain": [
              "dtype('float32')"
            ]
          },
          "metadata": {},
          "execution_count": 110
        }
      ]
    },
    {
      "cell_type": "code",
      "source": [
        "tensor[0] = 7\n",
        "tensor,numpy_tensor"
      ],
      "metadata": {
        "colab": {
          "base_uri": "https://localhost:8080/"
        },
        "id": "ex2Q4-dtl5j5",
        "outputId": "fd830046-812d-4a27-8970-b1a32976c7ff"
      },
      "execution_count": null,
      "outputs": [
        {
          "output_type": "execute_result",
          "data": {
            "text/plain": [
              "(tensor([7., 1., 1., 1., 1., 1., 1.]),\n",
              " array([7., 1., 1., 1., 1., 1., 1.], dtype=float32))"
            ]
          },
          "metadata": {},
          "execution_count": 111
        }
      ]
    },
    {
      "cell_type": "markdown",
      "source": [
        "### reproducibility（take random out of random）可再现性"
      ],
      "metadata": {
        "id": "nB7HiGADmgAL"
      }
    },
    {
      "cell_type": "code",
      "source": [
        "import torch\n",
        "random_tensor_A = torch.rand(3,4)\n",
        "random_tensor_B = torch.rand(3,4)\n",
        "print(random_tensor_A)\n",
        "print(random_tensor_B)"
      ],
      "metadata": {
        "colab": {
          "base_uri": "https://localhost:8080/"
        },
        "id": "AvkfIMa4oaaL",
        "outputId": "5324f1b4-9c3b-433f-de63-b4241b7a774b"
      },
      "execution_count": null,
      "outputs": [
        {
          "output_type": "stream",
          "name": "stdout",
          "text": [
            "tensor([[0.5051, 0.1233, 0.5897, 0.7492],\n",
            "        [0.5998, 0.6168, 0.1270, 0.4009],\n",
            "        [0.5726, 0.7532, 0.4357, 0.7544]])\n",
            "tensor([[0.2500, 0.2000, 0.1800, 0.8686],\n",
            "        [0.7675, 0.6968, 0.4795, 0.3973],\n",
            "        [0.8278, 0.9557, 0.2271, 0.4025]])\n"
          ]
        }
      ]
    },
    {
      "cell_type": "code",
      "source": [
        "# seed\n",
        "import torch\n",
        "RANDOM_SEED = 42\n",
        "torch.manual_seed(RANDOM_SEED)\n",
        "random_tensor_C = torch.rand(3,4)\n",
        "torch.manual_seed(RANDOM_SEED)\n",
        "random_tensor_D = torch.rand(3,4)\n",
        "print(random_tensor_C)\n",
        "print(random_tensor_D)"
      ],
      "metadata": {
        "colab": {
          "base_uri": "https://localhost:8080/"
        },
        "id": "sfIEWJ4lgQ15",
        "outputId": "a1d031b4-0928-4345-8b8d-d1619025eb9c"
      },
      "execution_count": null,
      "outputs": [
        {
          "output_type": "stream",
          "name": "stdout",
          "text": [
            "tensor([[0.8823, 0.9150, 0.3829, 0.9593],\n",
            "        [0.3904, 0.6009, 0.2566, 0.7936],\n",
            "        [0.9408, 0.1332, 0.9346, 0.5936]])\n",
            "tensor([[0.8823, 0.9150, 0.3829, 0.9593],\n",
            "        [0.3904, 0.6009, 0.2566, 0.7936],\n",
            "        [0.9408, 0.1332, 0.9346, 0.5936]])\n"
          ]
        }
      ]
    },
    {
      "cell_type": "code",
      "source": [],
      "metadata": {
        "id": "JUHKcFDOgugQ"
      },
      "execution_count": null,
      "outputs": []
    },
    {
      "cell_type": "markdown",
      "source": [
        "### device running on GPUs\n",
        "* 常见的device设置语句"
      ],
      "metadata": {
        "id": "cMA5rhWvhZdR"
      }
    },
    {
      "cell_type": "code",
      "source": [
        "! nvidia-smi\n"
      ],
      "metadata": {
        "colab": {
          "base_uri": "https://localhost:8080/"
        },
        "id": "RPsdBTuXhjoj",
        "outputId": "77dc6e6b-799a-430b-b34b-2b133273316c"
      },
      "execution_count": null,
      "outputs": [
        {
          "output_type": "stream",
          "name": "stdout",
          "text": [
            "/bin/bash: line 1: nvidia-smi: command not found\n"
          ]
        }
      ]
    },
    {
      "cell_type": "code",
      "source": [
        "!nvidia-smi\n"
      ],
      "metadata": {
        "colab": {
          "base_uri": "https://localhost:8080/"
        },
        "id": "JeveCO26ie6P",
        "outputId": "c6a8a750-8cdf-4eaa-f9fa-478ccaf732db"
      },
      "execution_count": null,
      "outputs": [
        {
          "output_type": "stream",
          "name": "stdout",
          "text": [
            "/bin/bash: line 1: nvidia-smi: command not found\n"
          ]
        }
      ]
    },
    {
      "cell_type": "code",
      "source": [
        "!nvidia-smi\n"
      ],
      "metadata": {
        "colab": {
          "base_uri": "https://localhost:8080/"
        },
        "id": "y9oHTcnbihmy",
        "outputId": "00eb7e46-b7fe-412a-8025-215faabdf120"
      },
      "execution_count": null,
      "outputs": [
        {
          "output_type": "stream",
          "name": "stdout",
          "text": [
            "Mon Nov 25 13:38:20 2024       \n",
            "+---------------------------------------------------------------------------------------+\n",
            "| NVIDIA-SMI 535.104.05             Driver Version: 535.104.05   CUDA Version: 12.2     |\n",
            "|-----------------------------------------+----------------------+----------------------+\n",
            "| GPU  Name                 Persistence-M | Bus-Id        Disp.A | Volatile Uncorr. ECC |\n",
            "| Fan  Temp   Perf          Pwr:Usage/Cap |         Memory-Usage | GPU-Util  Compute M. |\n",
            "|                                         |                      |               MIG M. |\n",
            "|=========================================+======================+======================|\n",
            "|   0  Tesla T4                       Off | 00000000:00:04.0 Off |                    0 |\n",
            "| N/A   57C    P8              13W /  70W |      0MiB / 15360MiB |      0%      Default |\n",
            "|                                         |                      |                  N/A |\n",
            "+-----------------------------------------+----------------------+----------------------+\n",
            "                                                                                         \n",
            "+---------------------------------------------------------------------------------------+\n",
            "| Processes:                                                                            |\n",
            "|  GPU   GI   CI        PID   Type   Process name                            GPU Memory |\n",
            "|        ID   ID                                                             Usage      |\n",
            "|=======================================================================================|\n",
            "|  No running processes found                                                           |\n",
            "+---------------------------------------------------------------------------------------+\n"
          ]
        }
      ]
    },
    {
      "cell_type": "code",
      "source": [
        "import torch\n",
        "torch.cuda.is_available()"
      ],
      "metadata": {
        "colab": {
          "base_uri": "https://localhost:8080/"
        },
        "id": "pMkAVv5wir5G",
        "outputId": "d5b8a997-03d3-4082-8c40-1747f39e0364"
      },
      "execution_count": null,
      "outputs": [
        {
          "output_type": "execute_result",
          "data": {
            "text/plain": [
              "True"
            ]
          },
          "metadata": {},
          "execution_count": 2
        }
      ]
    },
    {
      "cell_type": "code",
      "source": [
        "# set up device\n",
        "device = \"cuda\" if torch.cuda.is_available() else \"cpu\"\n",
        "device"
      ],
      "metadata": {
        "colab": {
          "base_uri": "https://localhost:8080/",
          "height": 35
        },
        "id": "oDa5KvjZjFAi",
        "outputId": "2af83b3c-9e71-4cd1-e775-817e9997bb47"
      },
      "execution_count": null,
      "outputs": [
        {
          "output_type": "execute_result",
          "data": {
            "text/plain": [
              "'cuda'"
            ],
            "application/vnd.google.colaboratory.intrinsic+json": {
              "type": "string"
            }
          },
          "metadata": {},
          "execution_count": 4
        }
      ]
    },
    {
      "cell_type": "code",
      "source": [
        "# count number of device\n",
        "torch.cuda.device_count()"
      ],
      "metadata": {
        "colab": {
          "base_uri": "https://localhost:8080/"
        },
        "id": "A4aANIewjRqJ",
        "outputId": "ddedbeff-ccaa-4d01-e0e9-e87f296a28ac"
      },
      "execution_count": null,
      "outputs": [
        {
          "output_type": "execute_result",
          "data": {
            "text/plain": [
              "1"
            ]
          },
          "metadata": {},
          "execution_count": 5
        }
      ]
    },
    {
      "cell_type": "code",
      "source": [],
      "metadata": {
        "id": "xdlK5K0UjseW"
      },
      "execution_count": null,
      "outputs": []
    },
    {
      "cell_type": "markdown",
      "source": [
        "### putting tensor and model on the GPU"
      ],
      "metadata": {
        "id": "ihpQ4PuskNxk"
      }
    },
    {
      "cell_type": "code",
      "source": [
        "\n",
        "tensor = torch.tensor([1,2,3])\n",
        "print(tensor,tensor.device)"
      ],
      "metadata": {
        "colab": {
          "base_uri": "https://localhost:8080/"
        },
        "id": "2ofetYHskW-s",
        "outputId": "301e586e-5a05-4b7f-8172-e3f036fa5f60"
      },
      "execution_count": null,
      "outputs": [
        {
          "output_type": "stream",
          "name": "stdout",
          "text": [
            "tensor([1, 2, 3]) cpu\n"
          ]
        }
      ]
    },
    {
      "cell_type": "code",
      "source": [
        "# move tensor to GPUs\n",
        "tensor_on_gpu = tensor.to(device)\n",
        "tensor_on_gpu"
      ],
      "metadata": {
        "colab": {
          "base_uri": "https://localhost:8080/"
        },
        "id": "gNcgILe-kaC-",
        "outputId": "c38d570b-411a-466b-85b9-86a5281c826e"
      },
      "execution_count": null,
      "outputs": [
        {
          "output_type": "execute_result",
          "data": {
            "text/plain": [
              "tensor([1, 2, 3], device='cuda:0')"
            ]
          },
          "metadata": {},
          "execution_count": 9
        }
      ]
    },
    {
      "cell_type": "code",
      "source": [
        "# move tensors from GPUS to CPU\n",
        "tensor_back_on_cpu = tensor_on_gpu.cpu().numpy()\n",
        "tensor_back_on_cpu"
      ],
      "metadata": {
        "colab": {
          "base_uri": "https://localhost:8080/"
        },
        "id": "CpqC3SFAkz32",
        "outputId": "9325a14f-cf19-4522-c693-629280e63721"
      },
      "execution_count": null,
      "outputs": [
        {
          "output_type": "execute_result",
          "data": {
            "text/plain": [
              "array([1, 2, 3])"
            ]
          },
          "metadata": {},
          "execution_count": 12
        }
      ]
    },
    {
      "cell_type": "code",
      "source": [],
      "metadata": {
        "id": "CpDajuXHlFOf"
      },
      "execution_count": null,
      "outputs": []
    }
  ]
}