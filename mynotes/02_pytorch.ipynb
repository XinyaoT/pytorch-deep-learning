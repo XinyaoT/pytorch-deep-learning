{
  "cells": [
    {
      "cell_type": "markdown",
      "metadata": {
        "id": "view-in-github",
        "colab_type": "text"
      },
      "source": [
        "<a href=\"https://colab.research.google.com/github/XinyaoT/pytorch-deep-learning/blob/main/mynotes/02_pytorch.ipynb\" target=\"_parent\"><img src=\"https://colab.research.google.com/assets/colab-badge.svg\" alt=\"Open In Colab\"/></a>"
      ]
    },
    {
      "cell_type": "code",
      "execution_count": null,
      "metadata": {
        "colab": {
          "background_save": true
        },
        "id": "Ei2u8bDzt1W-"
      },
      "outputs": [],
      "source": []
    },
    {
      "cell_type": "markdown",
      "metadata": {
        "id": "GZ7CvK4duGGZ"
      },
      "source": [
        "# Classification"
      ]
    },
    {
      "cell_type": "markdown",
      "metadata": {
        "id": "OKdcQLlPuQn5"
      },
      "source": [
        "##1. data get ready\n"
      ]
    },
    {
      "cell_type": "code",
      "execution_count": null,
      "metadata": {
        "colab": {
          "background_save": true,
          "base_uri": "https://localhost:8080/"
        },
        "id": "H9nlq35guKNn",
        "outputId": "17e53e01-9b8b-4088-91d0-be6320d90084"
      },
      "outputs": [
        {
          "data": {
            "text/plain": [
              "(array([[ 0.75424625,  0.23148074],\n",
              "        [-0.75615888,  0.15325888],\n",
              "        [-0.81539193,  0.17328203],\n",
              "        [-0.39373073,  0.69288277],\n",
              "        [ 0.44220765, -0.89672343],\n",
              "        [-0.47964637,  0.67643477],\n",
              "        [-0.01364836,  0.80334872],\n",
              "        [ 0.77151327,  0.14775959],\n",
              "        [-0.16932234, -0.79345575],\n",
              "        [-0.1214858 ,  1.02150905]]),\n",
              " array([1, 1, 1, 1, 0, 1, 1, 1, 1, 0]))"
            ]
          },
          "execution_count": 2,
          "metadata": {},
          "output_type": "execute_result"
        }
      ],
      "source": [
        "import sklearn\n",
        "from sklearn.datasets import make_circles\n",
        "# make 1000 sanples\n",
        "n_samples = 1000\n",
        "X,y = make_circles(n_samples,noise = 0.03,random_state = 42)\n",
        "X[:10],y[:10]\n"
      ]
    },
    {
      "cell_type": "code",
      "execution_count": null,
      "metadata": {
        "colab": {
          "background_save": true,
          "base_uri": "https://localhost:8080/",
          "height": 363
        },
        "id": "odIgSvDXu9vR",
        "outputId": "d9f99ce1-481f-4dcd-a712-6bd5020f8b90"
      },
      "outputs": [
        {
          "data": {
            "application/vnd.google.colaboratory.intrinsic+json": {
              "summary": "{\n  \"name\": \"circles\",\n  \"rows\": 1000,\n  \"fields\": [\n    {\n      \"column\": \"X1\",\n      \"properties\": {\n        \"dtype\": \"number\",\n        \"std\": 0.6398365674574611,\n        \"min\": -1.0595024599098635,\n        \"max\": 1.0337117525463373,\n        \"num_unique_values\": 1000,\n        \"samples\": [\n          -0.3751930206933384,\n          0.015380346701456493,\n          -0.7027835978832848\n        ],\n        \"semantic_type\": \"\",\n        \"description\": \"\"\n      }\n    },\n    {\n      \"column\": \"X2\",\n      \"properties\": {\n        \"dtype\": \"number\",\n        \"std\": 0.6411559581015379,\n        \"min\": -1.0677683182718436,\n        \"max\": 1.0360036756154805,\n        \"num_unique_values\": 1000,\n        \"samples\": [\n          0.6826597225888621,\n          0.9600260220697324,\n          -0.3147169925147762\n        ],\n        \"semantic_type\": \"\",\n        \"description\": \"\"\n      }\n    },\n    {\n      \"column\": \"label\",\n      \"properties\": {\n        \"dtype\": \"number\",\n        \"std\": 0,\n        \"min\": 0,\n        \"max\": 1,\n        \"num_unique_values\": 2,\n        \"samples\": [\n          0,\n          1\n        ],\n        \"semantic_type\": \"\",\n        \"description\": \"\"\n      }\n    }\n  ]\n}",
              "type": "dataframe",
              "variable_name": "circles"
            },
            "text/html": [
              "\n",
              "  <div id=\"df-9a5001e0-03bb-4c8a-93f1-50dd68f3ebf7\" class=\"colab-df-container\">\n",
              "    <div>\n",
              "<style scoped>\n",
              "    .dataframe tbody tr th:only-of-type {\n",
              "        vertical-align: middle;\n",
              "    }\n",
              "\n",
              "    .dataframe tbody tr th {\n",
              "        vertical-align: top;\n",
              "    }\n",
              "\n",
              "    .dataframe thead th {\n",
              "        text-align: right;\n",
              "    }\n",
              "</style>\n",
              "<table border=\"1\" class=\"dataframe\">\n",
              "  <thead>\n",
              "    <tr style=\"text-align: right;\">\n",
              "      <th></th>\n",
              "      <th>X1</th>\n",
              "      <th>X2</th>\n",
              "      <th>label</th>\n",
              "    </tr>\n",
              "  </thead>\n",
              "  <tbody>\n",
              "    <tr>\n",
              "      <th>0</th>\n",
              "      <td>0.754246</td>\n",
              "      <td>0.231481</td>\n",
              "      <td>1</td>\n",
              "    </tr>\n",
              "    <tr>\n",
              "      <th>1</th>\n",
              "      <td>-0.756159</td>\n",
              "      <td>0.153259</td>\n",
              "      <td>1</td>\n",
              "    </tr>\n",
              "    <tr>\n",
              "      <th>2</th>\n",
              "      <td>-0.815392</td>\n",
              "      <td>0.173282</td>\n",
              "      <td>1</td>\n",
              "    </tr>\n",
              "    <tr>\n",
              "      <th>3</th>\n",
              "      <td>-0.393731</td>\n",
              "      <td>0.692883</td>\n",
              "      <td>1</td>\n",
              "    </tr>\n",
              "    <tr>\n",
              "      <th>4</th>\n",
              "      <td>0.442208</td>\n",
              "      <td>-0.896723</td>\n",
              "      <td>0</td>\n",
              "    </tr>\n",
              "    <tr>\n",
              "      <th>5</th>\n",
              "      <td>-0.479646</td>\n",
              "      <td>0.676435</td>\n",
              "      <td>1</td>\n",
              "    </tr>\n",
              "    <tr>\n",
              "      <th>6</th>\n",
              "      <td>-0.013648</td>\n",
              "      <td>0.803349</td>\n",
              "      <td>1</td>\n",
              "    </tr>\n",
              "    <tr>\n",
              "      <th>7</th>\n",
              "      <td>0.771513</td>\n",
              "      <td>0.147760</td>\n",
              "      <td>1</td>\n",
              "    </tr>\n",
              "    <tr>\n",
              "      <th>8</th>\n",
              "      <td>-0.169322</td>\n",
              "      <td>-0.793456</td>\n",
              "      <td>1</td>\n",
              "    </tr>\n",
              "    <tr>\n",
              "      <th>9</th>\n",
              "      <td>-0.121486</td>\n",
              "      <td>1.021509</td>\n",
              "      <td>0</td>\n",
              "    </tr>\n",
              "  </tbody>\n",
              "</table>\n",
              "</div>\n",
              "    <div class=\"colab-df-buttons\">\n",
              "\n",
              "  <div class=\"colab-df-container\">\n",
              "    <button class=\"colab-df-convert\" onclick=\"convertToInteractive('df-9a5001e0-03bb-4c8a-93f1-50dd68f3ebf7')\"\n",
              "            title=\"Convert this dataframe to an interactive table.\"\n",
              "            style=\"display:none;\">\n",
              "\n",
              "  <svg xmlns=\"http://www.w3.org/2000/svg\" height=\"24px\" viewBox=\"0 -960 960 960\">\n",
              "    <path d=\"M120-120v-720h720v720H120Zm60-500h600v-160H180v160Zm220 220h160v-160H400v160Zm0 220h160v-160H400v160ZM180-400h160v-160H180v160Zm440 0h160v-160H620v160ZM180-180h160v-160H180v160Zm440 0h160v-160H620v160Z\"/>\n",
              "  </svg>\n",
              "    </button>\n",
              "\n",
              "  <style>\n",
              "    .colab-df-container {\n",
              "      display:flex;\n",
              "      gap: 12px;\n",
              "    }\n",
              "\n",
              "    .colab-df-convert {\n",
              "      background-color: #E8F0FE;\n",
              "      border: none;\n",
              "      border-radius: 50%;\n",
              "      cursor: pointer;\n",
              "      display: none;\n",
              "      fill: #1967D2;\n",
              "      height: 32px;\n",
              "      padding: 0 0 0 0;\n",
              "      width: 32px;\n",
              "    }\n",
              "\n",
              "    .colab-df-convert:hover {\n",
              "      background-color: #E2EBFA;\n",
              "      box-shadow: 0px 1px 2px rgba(60, 64, 67, 0.3), 0px 1px 3px 1px rgba(60, 64, 67, 0.15);\n",
              "      fill: #174EA6;\n",
              "    }\n",
              "\n",
              "    .colab-df-buttons div {\n",
              "      margin-bottom: 4px;\n",
              "    }\n",
              "\n",
              "    [theme=dark] .colab-df-convert {\n",
              "      background-color: #3B4455;\n",
              "      fill: #D2E3FC;\n",
              "    }\n",
              "\n",
              "    [theme=dark] .colab-df-convert:hover {\n",
              "      background-color: #434B5C;\n",
              "      box-shadow: 0px 1px 3px 1px rgba(0, 0, 0, 0.15);\n",
              "      filter: drop-shadow(0px 1px 2px rgba(0, 0, 0, 0.3));\n",
              "      fill: #FFFFFF;\n",
              "    }\n",
              "  </style>\n",
              "\n",
              "    <script>\n",
              "      const buttonEl =\n",
              "        document.querySelector('#df-9a5001e0-03bb-4c8a-93f1-50dd68f3ebf7 button.colab-df-convert');\n",
              "      buttonEl.style.display =\n",
              "        google.colab.kernel.accessAllowed ? 'block' : 'none';\n",
              "\n",
              "      async function convertToInteractive(key) {\n",
              "        const element = document.querySelector('#df-9a5001e0-03bb-4c8a-93f1-50dd68f3ebf7');\n",
              "        const dataTable =\n",
              "          await google.colab.kernel.invokeFunction('convertToInteractive',\n",
              "                                                    [key], {});\n",
              "        if (!dataTable) return;\n",
              "\n",
              "        const docLinkHtml = 'Like what you see? Visit the ' +\n",
              "          '<a target=\"_blank\" href=https://colab.research.google.com/notebooks/data_table.ipynb>data table notebook</a>'\n",
              "          + ' to learn more about interactive tables.';\n",
              "        element.innerHTML = '';\n",
              "        dataTable['output_type'] = 'display_data';\n",
              "        await google.colab.output.renderOutput(dataTable, element);\n",
              "        const docLink = document.createElement('div');\n",
              "        docLink.innerHTML = docLinkHtml;\n",
              "        element.appendChild(docLink);\n",
              "      }\n",
              "    </script>\n",
              "  </div>\n",
              "\n",
              "\n",
              "<div id=\"df-d886f99f-10bb-4972-8948-fb4a91c17559\">\n",
              "  <button class=\"colab-df-quickchart\" onclick=\"quickchart('df-d886f99f-10bb-4972-8948-fb4a91c17559')\"\n",
              "            title=\"Suggest charts\"\n",
              "            style=\"display:none;\">\n",
              "\n",
              "<svg xmlns=\"http://www.w3.org/2000/svg\" height=\"24px\"viewBox=\"0 0 24 24\"\n",
              "     width=\"24px\">\n",
              "    <g>\n",
              "        <path d=\"M19 3H5c-1.1 0-2 .9-2 2v14c0 1.1.9 2 2 2h14c1.1 0 2-.9 2-2V5c0-1.1-.9-2-2-2zM9 17H7v-7h2v7zm4 0h-2V7h2v10zm4 0h-2v-4h2v4z\"/>\n",
              "    </g>\n",
              "</svg>\n",
              "  </button>\n",
              "\n",
              "<style>\n",
              "  .colab-df-quickchart {\n",
              "      --bg-color: #E8F0FE;\n",
              "      --fill-color: #1967D2;\n",
              "      --hover-bg-color: #E2EBFA;\n",
              "      --hover-fill-color: #174EA6;\n",
              "      --disabled-fill-color: #AAA;\n",
              "      --disabled-bg-color: #DDD;\n",
              "  }\n",
              "\n",
              "  [theme=dark] .colab-df-quickchart {\n",
              "      --bg-color: #3B4455;\n",
              "      --fill-color: #D2E3FC;\n",
              "      --hover-bg-color: #434B5C;\n",
              "      --hover-fill-color: #FFFFFF;\n",
              "      --disabled-bg-color: #3B4455;\n",
              "      --disabled-fill-color: #666;\n",
              "  }\n",
              "\n",
              "  .colab-df-quickchart {\n",
              "    background-color: var(--bg-color);\n",
              "    border: none;\n",
              "    border-radius: 50%;\n",
              "    cursor: pointer;\n",
              "    display: none;\n",
              "    fill: var(--fill-color);\n",
              "    height: 32px;\n",
              "    padding: 0;\n",
              "    width: 32px;\n",
              "  }\n",
              "\n",
              "  .colab-df-quickchart:hover {\n",
              "    background-color: var(--hover-bg-color);\n",
              "    box-shadow: 0 1px 2px rgba(60, 64, 67, 0.3), 0 1px 3px 1px rgba(60, 64, 67, 0.15);\n",
              "    fill: var(--button-hover-fill-color);\n",
              "  }\n",
              "\n",
              "  .colab-df-quickchart-complete:disabled,\n",
              "  .colab-df-quickchart-complete:disabled:hover {\n",
              "    background-color: var(--disabled-bg-color);\n",
              "    fill: var(--disabled-fill-color);\n",
              "    box-shadow: none;\n",
              "  }\n",
              "\n",
              "  .colab-df-spinner {\n",
              "    border: 2px solid var(--fill-color);\n",
              "    border-color: transparent;\n",
              "    border-bottom-color: var(--fill-color);\n",
              "    animation:\n",
              "      spin 1s steps(1) infinite;\n",
              "  }\n",
              "\n",
              "  @keyframes spin {\n",
              "    0% {\n",
              "      border-color: transparent;\n",
              "      border-bottom-color: var(--fill-color);\n",
              "      border-left-color: var(--fill-color);\n",
              "    }\n",
              "    20% {\n",
              "      border-color: transparent;\n",
              "      border-left-color: var(--fill-color);\n",
              "      border-top-color: var(--fill-color);\n",
              "    }\n",
              "    30% {\n",
              "      border-color: transparent;\n",
              "      border-left-color: var(--fill-color);\n",
              "      border-top-color: var(--fill-color);\n",
              "      border-right-color: var(--fill-color);\n",
              "    }\n",
              "    40% {\n",
              "      border-color: transparent;\n",
              "      border-right-color: var(--fill-color);\n",
              "      border-top-color: var(--fill-color);\n",
              "    }\n",
              "    60% {\n",
              "      border-color: transparent;\n",
              "      border-right-color: var(--fill-color);\n",
              "    }\n",
              "    80% {\n",
              "      border-color: transparent;\n",
              "      border-right-color: var(--fill-color);\n",
              "      border-bottom-color: var(--fill-color);\n",
              "    }\n",
              "    90% {\n",
              "      border-color: transparent;\n",
              "      border-bottom-color: var(--fill-color);\n",
              "    }\n",
              "  }\n",
              "</style>\n",
              "\n",
              "  <script>\n",
              "    async function quickchart(key) {\n",
              "      const quickchartButtonEl =\n",
              "        document.querySelector('#' + key + ' button');\n",
              "      quickchartButtonEl.disabled = true;  // To prevent multiple clicks.\n",
              "      quickchartButtonEl.classList.add('colab-df-spinner');\n",
              "      try {\n",
              "        const charts = await google.colab.kernel.invokeFunction(\n",
              "            'suggestCharts', [key], {});\n",
              "      } catch (error) {\n",
              "        console.error('Error during call to suggestCharts:', error);\n",
              "      }\n",
              "      quickchartButtonEl.classList.remove('colab-df-spinner');\n",
              "      quickchartButtonEl.classList.add('colab-df-quickchart-complete');\n",
              "    }\n",
              "    (() => {\n",
              "      let quickchartButtonEl =\n",
              "        document.querySelector('#df-d886f99f-10bb-4972-8948-fb4a91c17559 button');\n",
              "      quickchartButtonEl.style.display =\n",
              "        google.colab.kernel.accessAllowed ? 'block' : 'none';\n",
              "    })();\n",
              "  </script>\n",
              "</div>\n",
              "\n",
              "    </div>\n",
              "  </div>\n"
            ],
            "text/plain": [
              "         X1        X2  label\n",
              "0  0.754246  0.231481      1\n",
              "1 -0.756159  0.153259      1\n",
              "2 -0.815392  0.173282      1\n",
              "3 -0.393731  0.692883      1\n",
              "4  0.442208 -0.896723      0\n",
              "5 -0.479646  0.676435      1\n",
              "6 -0.013648  0.803349      1\n",
              "7  0.771513  0.147760      1\n",
              "8 -0.169322 -0.793456      1\n",
              "9 -0.121486  1.021509      0"
            ]
          },
          "execution_count": 3,
          "metadata": {},
          "output_type": "execute_result"
        }
      ],
      "source": [
        "import pandas as pd\n",
        "circles = pd.DataFrame({\"X1\":X[:,0],\"X2\":X[:,1],\"label\":y})\n",
        "circles.head(10)"
      ]
    },
    {
      "cell_type": "code",
      "execution_count": null,
      "metadata": {
        "colab": {
          "background_save": true,
          "base_uri": "https://localhost:8080/",
          "height": 430
        },
        "id": "V84MQs7QY54w",
        "outputId": "4a5a2e3f-8fb0-42b0-df28-385964865527"
      },
      "outputs": [
        {
          "data": {
            "image/png": "[encoded data removed]",
            "text/plain": [
              "<Figure size 640x480 with 1 Axes>"
            ]
          },
          "metadata": {},
          "output_type": "display_data"
        }
      ],
      "source": [
        "# visualize\n",
        "import matplotlib.pyplot as plt\n",
        "plt.scatter(x = X[:,0],y = X[:,1],c = y,cmap = plt.cm.RdYlBu)\n",
        "plt.show()"
      ]
    },
    {
      "cell_type": "markdown",
      "metadata": {
        "id": "C8yaPz9OZO3M"
      },
      "source": [
        "note :分类上述数据集"
      ]
    },
    {
      "cell_type": "markdown",
      "metadata": {
        "id": "sImJXeNqZlew"
      },
      "source": [
        "###1.1 检查输入输出的形状"
      ]
    },
    {
      "cell_type": "code",
      "execution_count": null,
      "metadata": {
        "colab": {
          "background_save": true,
          "base_uri": "https://localhost:8080/"
        },
        "id": "0ieiKsjaZGl5",
        "outputId": "d205b6e7-b343-4716-f416-5c977910fbbd"
      },
      "outputs": [
        {
          "data": {
            "text/plain": [
              "((1000, 2), (1000,))"
            ]
          },
          "execution_count": 5,
          "metadata": {},
          "output_type": "execute_result"
        }
      ],
      "source": [
        "X.shape,y.shape"
      ]
    },
    {
      "cell_type": "markdown",
      "metadata": {
        "id": "-fE6PLA6aYQa"
      },
      "source": [
        "###1.2 把数据转化成tensor和split to 训练集和测试机"
      ]
    },
    {
      "cell_type": "code",
      "execution_count": null,
      "metadata": {
        "colab": {
          "background_save": true,
          "base_uri": "https://localhost:8080/"
        },
        "id": "YcKslWwOZwjz",
        "outputId": "d684bc8f-b189-4242-bee5-19a9864205fb"
      },
      "outputs": [
        {
          "data": {
            "text/plain": [
              "(numpy.ndarray, numpy.ndarray, dtype('float64'), dtype('int64'))"
            ]
          },
          "execution_count": 6,
          "metadata": {},
          "output_type": "execute_result"
        }
      ],
      "source": [
        "import torch\n",
        "from sklearn.model_selection import train_test_split\n",
        "\n",
        "type(X),type(y),X.dtype,y.dtype"
      ]
    },
    {
      "cell_type": "code",
      "execution_count": null,
      "metadata": {
        "colab": {
          "background_save": true,
          "base_uri": "https://localhost:8080/"
        },
        "id": "vJXuglY_arpA",
        "outputId": "36ee58d3-7298-4dad-c451-4b605405717c"
      },
      "outputs": [
        {
          "data": {
            "text/plain": [
              "(torch.Tensor, torch.Tensor, torch.float32, torch.float32)"
            ]
          },
          "execution_count": 7,
          "metadata": {},
          "output_type": "execute_result"
        }
      ],
      "source": [
        "# 将数据转成tensor\n",
        "X = torch.from_numpy(X).type(torch.float)\n",
        "y = torch.from_numpy(y).type(torch.float)\n",
        "type(X),type(y),X.dtype,y.dtype"
      ]
    },
    {
      "cell_type": "code",
      "execution_count": null,
      "metadata": {
        "colab": {
          "background_save": true,
          "base_uri": "https://localhost:8080/"
        },
        "id": "nq11gBOCca-8",
        "outputId": "d079920b-50ef-4849-df2f-ed6ff657b677"
      },
      "outputs": [
        {
          "data": {
            "text/plain": [
              "(800, 200, 800, 200)"
            ]
          },
          "execution_count": 8,
          "metadata": {},
          "output_type": "execute_result"
        }
      ],
      "source": [
        "# split\n",
        "X_train,X_test,y_train,y_test = train_test_split(X,y,test_size = 0.2,random_state = 42)\n",
        "len(X_train),len(X_test),len(y_train),len(y_test)"
      ]
    },
    {
      "cell_type": "markdown",
      "metadata": {
        "id": "6wQ6TAfgekPe"
      },
      "source": [
        "##2. build a model"
      ]
    },
    {
      "cell_type": "code",
      "execution_count": null,
      "metadata": {
        "colab": {
          "base_uri": "https://localhost:8080/",
          "height": 35
        },
        "id": "2fhGaSQTc9ji",
        "outputId": "1df84c30-26b6-480f-a0dd-2b43a91dc231"
      },
      "outputs": [
        {
          "output_type": "execute_result",
          "data": {
            "text/plain": [
              "'cuda'"
            ],
            "application/vnd.google.colaboratory.intrinsic+json": {
              "type": "string"
            }
          },
          "metadata": {},
          "execution_count": 25
        }
      ],
      "source": [
        "import torch\n",
        "from torch import nn\n",
        "# device\n",
        "device = \"cuda\" if torch.cuda.is_available() else \"cpu\"\n",
        "device"
      ]
    },
    {
      "cell_type": "code",
      "execution_count": null,
      "metadata": {
        "colab": {
          "background_save": true,
          "base_uri": "https://localhost:8080/"
        },
        "id": "PpFuhKeke9J2",
        "outputId": "e486284d-d8b3-4444-8ac8-d24e73d63102"
      },
      "outputs": [
        {
          "data": {
            "text/plain": [
              "tensor([[ 0.6579, -0.4651],\n",
              "        [ 0.6319, -0.7347],\n",
              "        [-1.0086, -0.1240],\n",
              "        ...,\n",
              "        [ 0.0157, -1.0300],\n",
              "        [ 1.0110,  0.1680],\n",
              "        [ 0.5578, -0.5709]])"
            ]
          },
          "execution_count": 10,
          "metadata": {},
          "output_type": "execute_result"
        }
      ],
      "source": [
        "X_train"
      ]
    },
    {
      "cell_type": "code",
      "execution_count": null,
      "metadata": {
        "id": "e4r61QzEfFn2"
      },
      "outputs": [],
      "source": [
        "# 1. 创建model\n",
        "class CircleModelV0(nn.Module):\n",
        "  def __init__(self):\n",
        "    super().__init__()\n",
        "    # 2. 两个线性层\n",
        "    # self.layer_1 = nn.Linear(in_features = 2,out_features = 5)\n",
        "    # self.layer_2 = nn.Linear(in_features = 5,out_features = 1)  #输出与y的shape匹配\n",
        "\n",
        "    # squential\n",
        "    self.two_linear_layers = nn.Sequential(\n",
        "        nn.Linear(in_features = 2,out_features = 5),\n",
        "        nn.Linear(in_features = 5,out_features = 1)\n",
        "    )\n",
        "  def forward(self,x):\n",
        "    # return self.layer_2(self.layer_1(x))\n",
        "    return self.two_linear_layers(x)"
      ]
    },
    {
      "cell_type": "code",
      "execution_count": null,
      "metadata": {
        "colab": {
          "base_uri": "https://localhost:8080/"
        },
        "id": "VbTCs6A9fb9D",
        "outputId": "4677a82c-3493-430b-e4e3-e15e05d2ac60"
      },
      "outputs": [
        {
          "output_type": "execute_result",
          "data": {
            "text/plain": [
              "CircleModelV0(\n",
              "  (two_linear_layers): Sequential(\n",
              "    (0): Linear(in_features=2, out_features=5, bias=True)\n",
              "    (1): Linear(in_features=5, out_features=1, bias=True)\n",
              "  )\n",
              ")"
            ]
          },
          "metadata": {},
          "execution_count": 26
        }
      ],
      "source": [
        "# 实例化模型\n",
        "model_0 = CircleModelV0()\n",
        "model_0.to(device)"
      ]
    },
    {
      "cell_type": "code",
      "execution_count": null,
      "metadata": {
        "id": "B3VJ7-D5gm1P"
      },
      "outputs": [],
      "source": [
        "# # nn.squential()\n",
        "# model_0 = nn.Sequential(\n",
        "#     nn.Linear(in_features = 2,out_features = 5),\n",
        "#     nn.Linear(in_features = 5,out_features = 1)\n",
        "# )"
      ]
    },
    {
      "cell_type": "code",
      "execution_count": null,
      "metadata": {
        "id": "mc81VWimP6zB",
        "colab": {
          "base_uri": "https://localhost:8080/"
        },
        "outputId": "4b6958b0-a20b-41a6-e3bf-44adc315dc52"
      },
      "outputs": [
        {
          "output_type": "stream",
          "name": "stdout",
          "text": [
            "untrain preds : tensor([[0.4950],\n",
            "        [0.6561],\n",
            "        [0.0456],\n",
            "        [0.6225],\n",
            "        [0.0024],\n",
            "        [0.1010],\n",
            "        [0.5888],\n",
            "        [0.4587],\n",
            "        [0.0481],\n",
            "        [0.6664]], device='cuda:0'),X_test:tensor([[-0.3752,  0.6827],\n",
            "        [ 0.0154,  0.9600],\n",
            "        [-0.7028, -0.3147],\n",
            "        [-0.2853,  0.9664],\n",
            "        [ 0.4024, -0.7438],\n",
            "        [ 0.6323, -0.5711],\n",
            "        [ 0.8561,  0.5499],\n",
            "        [ 1.0034,  0.1903],\n",
            "        [-0.7489, -0.2951],\n",
            "        [ 0.0538,  0.9739]])\n",
            "untrain preds shape : torch.Size([200, 1]),X_test shape:torch.Size([200, 2])\n",
            "y_test shape : torch.Size([200]),y_test:tensor([1., 0., 1., 0., 1., 1., 0., 0., 1., 0.])\n"
          ]
        }
      ],
      "source": [
        "# prediction\n",
        "with torch.inference_mode():\n",
        "  y_untrain_preds = model_0(X_test.to(device))\n",
        "  print(f\"untrain preds : {y_untrain_preds[:10]},X_test:{X_test[:10]}\")\n",
        "  print(f\"untrain preds shape : {y_untrain_preds.shape},X_test shape:{X_test.shape}\")\n",
        "  print(f\"y_test shape : {y_test.shape},y_test:{y_test[:10]}\")"
      ]
    },
    {
      "cell_type": "markdown",
      "source": [
        "###2.1 loss function\n",
        "回归：MAE MSE\n",
        "分类：CE\n",
        "* lossfunction :`torch.nn`\n",
        "* optimizer: `torch.optim`"
      ],
      "metadata": {
        "id": "xnDrvuWPZ3n7"
      }
    },
    {
      "cell_type": "code",
      "source": [
        "# loss\n",
        "loss_fn = nn.BCEWithLogitsLoss()\n",
        "# 结合 sigmoid和CE\n",
        "optimizer= torch.optim.SGD(params = model_0.parameters(),lr = 0.1)"
      ],
      "metadata": {
        "id": "R4dgLHD2YxFV"
      },
      "execution_count": null,
      "outputs": []
    },
    {
      "cell_type": "code",
      "source": [
        "def accuracy_fn(y_true,y_pred):\n",
        "  correct = torch.eq(y_true,y_pred).sum().item()\n",
        "  acc = (correct/len(y_pred))*100\n",
        "  return acc"
      ],
      "metadata": {
        "id": "72dz6ViycJ4F"
      },
      "execution_count": 39,
      "outputs": []
    },
    {
      "cell_type": "markdown",
      "source": [
        "##3. train model\n"
      ],
      "metadata": {
        "id": "ikLGurCQcs5A"
      }
    },
    {
      "cell_type": "markdown",
      "source": [
        "###3.1 raw logits ->prediction 概率->预测标签\n",
        "\n",
        "####whatis logits\n",
        "在深度学习的上下文中，logits 就是一个向量，下一步通常被投给 softmax/sigmoid 的向量。。\n",
        "\n",
        "softmax的输出是分类任务的概率，其输入是logits层。 logits层通常产生-infinity到+ infinity的值，而softmax层将其转换为0到1的值。\n",
        "                        \n",
        "原文链接：https://blog.csdn.net/weixin_43135178/article/details/122236217"
      ],
      "metadata": {
        "id": "WpqPTcrMdAMO"
      }
    },
    {
      "cell_type": "code",
      "source": [
        "y_logits = model_0(X_test.to(device))\n",
        "y_logits[:10]"
      ],
      "metadata": {
        "colab": {
          "base_uri": "https://localhost:8080/"
        },
        "id": "gEW4Dp00c32n",
        "outputId": "ff319fb9-9de0-46e3-bff9-400f340583ce"
      },
      "execution_count": null,
      "outputs": [
        {
          "output_type": "execute_result",
          "data": {
            "text/plain": [
              "tensor([[0.4950],\n",
              "        [0.6561],\n",
              "        [0.0456],\n",
              "        [0.6225],\n",
              "        [0.0024],\n",
              "        [0.1010],\n",
              "        [0.5888],\n",
              "        [0.4587],\n",
              "        [0.0481],\n",
              "        [0.6664]], device='cuda:0', grad_fn=<SliceBackward0>)"
            ]
          },
          "metadata": {},
          "execution_count": 32
        }
      ]
    },
    {
      "cell_type": "code",
      "source": [
        "# sigmoid——把特征转化成概率\n",
        "y_pred_probs = torch.sigmoid(y_logits)\n",
        "y_pred_probs[:10]"
      ],
      "metadata": {
        "colab": {
          "base_uri": "https://localhost:8080/"
        },
        "id": "MK9vkwkCe1Gs",
        "outputId": "040355f3-0882-48b7-fe97-bc0b28c760f2"
      },
      "execution_count": null,
      "outputs": [
        {
          "output_type": "execute_result",
          "data": {
            "text/plain": [
              "tensor([[0.6213],\n",
              "        [0.6584],\n",
              "        [0.5114],\n",
              "        [0.6508],\n",
              "        [0.5006],\n",
              "        [0.5252],\n",
              "        [0.6431],\n",
              "        [0.6127],\n",
              "        [0.5120],\n",
              "        [0.6607]], device='cuda:0', grad_fn=<SliceBackward0>)"
            ]
          },
          "metadata": {},
          "execution_count": 33
        }
      ]
    },
    {
      "cell_type": "markdown",
      "source": [
        "* 概率大于0.5，class1\n",
        "* 概率小于0.5，class0"
      ],
      "metadata": {
        "id": "5zTj0gGQfiwS"
      }
    },
    {
      "cell_type": "code",
      "source": [
        "torch.round(y_pred_probs[:10])"
      ],
      "metadata": {
        "colab": {
          "base_uri": "https://localhost:8080/"
        },
        "id": "Z1ZsgRKXfPJU",
        "outputId": "f86aa21b-07ee-4970-d8b6-20db5cb803d9"
      },
      "execution_count": null,
      "outputs": [
        {
          "output_type": "execute_result",
          "data": {
            "text/plain": [
              "tensor([[1.],\n",
              "        [1.],\n",
              "        [1.],\n",
              "        [1.],\n",
              "        [1.],\n",
              "        [1.],\n",
              "        [1.],\n",
              "        [1.],\n",
              "        [1.],\n",
              "        [1.]], device='cuda:0', grad_fn=<RoundBackward0>)"
            ]
          },
          "metadata": {},
          "execution_count": 34
        }
      ]
    },
    {
      "cell_type": "code",
      "source": [
        "# in full\n",
        "y_pred_labels = torch.round(torch.sigmoid(model_0(X_test.to(device)))).squeeze()\n",
        "y_pred_labels[:10]"
      ],
      "metadata": {
        "colab": {
          "base_uri": "https://localhost:8080/"
        },
        "id": "dWN2fCR7fXUy",
        "outputId": "112446b4-de6b-4a6b-a2cb-3f31a6f326b9"
      },
      "execution_count": null,
      "outputs": [
        {
          "output_type": "execute_result",
          "data": {
            "text/plain": [
              "tensor([1., 1., 1., 1., 1., 1., 1., 1., 1., 1.], device='cuda:0',\n",
              "       grad_fn=<SliceBackward0>)"
            ]
          },
          "metadata": {},
          "execution_count": 36
        }
      ]
    },
    {
      "cell_type": "markdown",
      "source": [
        "* BCELoss:输入是logits，也就是先要sigmoid之后，把sigmoid的结果输入这个lossfun\n",
        "* BCEWithLogitsLoss：输入是网络输出的特征向量，它里面包含了sigmoid"
      ],
      "metadata": {
        "id": "2gfUToxFj3n7"
      }
    },
    {
      "cell_type": "markdown",
      "source": [
        "###3.2 train & test\n"
      ],
      "metadata": {
        "id": "ZU2F4o82gT4K"
      }
    },
    {
      "cell_type": "code",
      "source": [
        "torch.manual_seed(42)\n",
        "torch.cuda.manual_seed(42)\n",
        "epoch = 1000\n",
        "# data\n",
        "X_train,X_test,y_train,y_test = train_test_split(X,y,test_size = 0.2,random_state = 42)\n",
        "X_train,y_train = X_train.to(device),y_train.to(device)\n",
        "X_test,y_test = X_test.to(device),y_test.to(device)\n",
        "for epoch in range(epoch):\n",
        "  ### training\n",
        "  model_0.train()\n",
        "  y_train_logits = model_0(X_train).squeeze()\n",
        "  y_train_pred = torch.round(torch.sigmoid(y_train_logits))\n",
        "  loss = loss_fn(y_train_logits,y_train)\n",
        "  acc = accuracy_fn(y_true = y_train,y_pred = y_train_pred)\n",
        "  optimizer.zero_grad()\n",
        "  loss.backward()\n",
        "  optimizer.step()\n",
        "  model_0.eval()\n",
        "  with torch.inference_mode():\n",
        "    test_logits = model_0(X_test).squeeze()\n",
        "    test_pred = torch.round(torch.sigmoid(test_logits))\n",
        "    test_loss = loss_fn(test_logits,y_test)\n",
        "    test_acc = accuracy_fn(y_true = y_test,y_pred = test_pred)\n",
        "\n",
        "  # shuchu\n",
        "  if epoch % 100 ==0:\n",
        "    print(f\"epoch:{epoch},train_loss:{loss},trainacc:{acc}\")\n",
        "    print(f\"test_loss:{test_loss},testacc:{acc}\")"
      ],
      "metadata": {
        "colab": {
          "base_uri": "https://localhost:8080/"
        },
        "id": "cz7E_EWUgBdJ",
        "outputId": "8971bd34-3954-4cff-c4cf-8ea651c9492a"
      },
      "execution_count": 51,
      "outputs": [
        {
          "output_type": "stream",
          "name": "stdout",
          "text": [
            "epoch:0,train_loss:0.6929840445518494,trainacc:51.125\n",
            "test_loss:0.694873034954071,testacc:51.125\n",
            "epoch:100,train_loss:0.6929819583892822,trainacc:51.0\n",
            "test_loss:0.6948145627975464,testacc:51.0\n",
            "epoch:200,train_loss:0.6929807662963867,trainacc:51.24999999999999\n",
            "test_loss:0.6947741508483887,testacc:51.24999999999999\n",
            "epoch:300,train_loss:0.6929803490638733,trainacc:51.5\n",
            "test_loss:0.6947458982467651,testacc:51.5\n",
            "epoch:400,train_loss:0.6929801106452942,trainacc:51.37500000000001\n",
            "test_loss:0.6947262287139893,testacc:51.37500000000001\n",
            "epoch:500,train_loss:0.6929800510406494,trainacc:51.5\n",
            "test_loss:0.6947124600410461,testacc:51.5\n",
            "epoch:600,train_loss:0.6929798722267151,trainacc:51.5\n",
            "test_loss:0.6947027444839478,testacc:51.5\n",
            "epoch:700,train_loss:0.6929798722267151,trainacc:51.5\n",
            "test_loss:0.6946958899497986,testacc:51.5\n",
            "epoch:800,train_loss:0.6929798722267151,trainacc:51.24999999999999\n",
            "test_loss:0.6946910619735718,testacc:51.24999999999999\n",
            "epoch:900,train_loss:0.6929798722267151,trainacc:51.125\n",
            "test_loss:0.6946877241134644,testacc:51.125\n"
          ]
        }
      ]
    },
    {
      "cell_type": "markdown",
      "source": [
        "### our work dosent work\n",
        "visualize——决策边界——可视化工具使用\n",
        "skip"
      ],
      "metadata": {
        "id": "3ePr8TWsoBLf"
      }
    },
    {
      "cell_type": "markdown",
      "source": [
        "### 非直线，需要Relu激活函数"
      ],
      "metadata": {
        "id": "DIJnV4N2qZOB"
      }
    },
    {
      "cell_type": "code",
      "source": [
        "class CircleModelV2(nn.Module):\n",
        "  def __init__(self):\n",
        "    super().__init__()\n",
        "    self.layer_1 = nn.Sequential(\n",
        "        nn.Linear(in_features = 2,out_features = 10),\n",
        "\n",
        "        nn.Linear(in_features = 10,out_features = 10),\n",
        "\n",
        "        nn.Linear(in_features = 10,out_features = 1),\n",
        "        nn.ReLU()\n",
        "    )\n",
        "  def forward(self,x):\n",
        "    return self.layer_1(x)\n",
        "model_2 = CircleModelV2()\n",
        "model_2.to(device)\n",
        "torch.manual_seed(42)\n",
        "torch.cuda.manual_seed(42)\n",
        "epoch = 1000\n",
        "loss_fn =nn.BCEWithLogitsLoss()\n",
        "optimizer = torch.optim.SGD(params = model_2.parameters(),lr = 0.01)\n",
        "# data\n",
        "X_train,X_test,y_train,y_test = train_test_split(X,y,test_size = 0.2,random_state = 42)\n",
        "X_train,y_train = X_train.to(device),y_train.to(device)\n",
        "X_test,y_test = X_test.to(device),y_test.to(device)\n",
        "for epoch in range(epoch):\n",
        "  ### training\n",
        "  model_2.train()\n",
        "  y_train_logits = model_2(X_train).squeeze()\n",
        "  y_train_pred = torch.round(torch.sigmoid(y_train_logits))\n",
        "  loss = loss_fn(y_train_logits,y_train)\n",
        "  acc = accuracy_fn(y_true = y_train,y_pred = y_train_pred)\n",
        "  optimizer.zero_grad()\n",
        "  loss.backward()\n",
        "  optimizer.step()\n",
        "  model_2.eval()\n",
        "  with torch.inference_mode():\n",
        "    test_logits = model_2(X_test).squeeze()\n",
        "    test_pred = torch.round(torch.sigmoid(test_logits))\n",
        "    test_loss = loss_fn(test_logits,y_test)\n",
        "    test_acc = accuracy_fn(y_true = y_test,y_pred = test_pred)\n",
        "\n",
        "  # shuchu\n",
        "  if epoch % 100 ==0:\n",
        "    print(f\"epoch:{epoch},train_loss:{loss},trainacc:{acc}\")\n",
        "    print(f\"test_loss:{test_loss},testacc:{test_acc}\")\n"
      ],
      "metadata": {
        "id": "0oP3-EiAmNSh",
        "colab": {
          "base_uri": "https://localhost:8080/"
        },
        "outputId": "bfca8b3e-aa8b-487a-f171-31c977d6c585"
      },
      "execution_count": 68,
      "outputs": [
        {
          "output_type": "stream",
          "name": "stdout",
          "text": [
            "epoch:0,train_loss:0.6952366232872009,trainacc:50.875\n",
            "test_loss:0.6944398283958435,testacc:51.0\n",
            "epoch:100,train_loss:0.6943891048431396,trainacc:50.375\n",
            "test_loss:0.6941307783126831,testacc:51.0\n",
            "epoch:200,train_loss:0.6938087344169617,trainacc:50.0\n",
            "test_loss:0.6938201785087585,testacc:49.0\n",
            "epoch:300,train_loss:0.6931477189064026,trainacc:49.375\n",
            "test_loss:0.6931471824645996,testacc:50.0\n",
            "epoch:400,train_loss:0.6931471824645996,trainacc:50.0\n",
            "test_loss:0.6931471824645996,testacc:50.0\n",
            "epoch:500,train_loss:0.6931471824645996,trainacc:50.0\n",
            "test_loss:0.6931471824645996,testacc:50.0\n",
            "epoch:600,train_loss:0.6931471824645996,trainacc:50.0\n",
            "test_loss:0.6931471824645996,testacc:50.0\n",
            "epoch:700,train_loss:0.6931471824645996,trainacc:50.0\n",
            "test_loss:0.6931471824645996,testacc:50.0\n",
            "epoch:800,train_loss:0.6931471824645996,trainacc:50.0\n",
            "test_loss:0.6931471824645996,testacc:50.0\n",
            "epoch:900,train_loss:0.6931471824645996,trainacc:50.0\n",
            "test_loss:0.6931471824645996,testacc:50.0\n"
          ]
        }
      ]
    },
    {
      "cell_type": "code",
      "source": [
        "model_2.state_dict()"
      ],
      "metadata": {
        "colab": {
          "base_uri": "https://localhost:8080/"
        },
        "id": "iBaaRNGjrAbO",
        "outputId": "cd768ccc-8160-4a78-fffd-29b8198316ca"
      },
      "execution_count": 65,
      "outputs": [
        {
          "output_type": "execute_result",
          "data": {
            "text/plain": [
              "OrderedDict([('layer_1.0.weight',\n",
              "              tensor([[ 0.5394,  0.5865],\n",
              "                      [-0.1632,  0.6501],\n",
              "                      [-0.1570,  0.1422],\n",
              "                      [-0.3457,  0.4149],\n",
              "                      [ 0.6196, -0.5196],\n",
              "                      [ 0.6184,  0.1331],\n",
              "                      [ 0.5211,  0.0954],\n",
              "                      [ 0.3391, -0.1003],\n",
              "                      [ 0.5371,  0.1027],\n",
              "                      [-0.3373,  0.1787]], device='cuda:0')),\n",
              "             ('layer_1.0.bias',\n",
              "              tensor([-0.3256, -0.0834, -0.2868,  0.4693, -0.5575, -0.3267, -0.1995, -0.4248,\n",
              "                       0.0682, -0.6971], device='cuda:0')),\n",
              "             ('layer_1.1.weight',\n",
              "              tensor([[ 2.9136e-01, -2.6873e-01,  2.4355e-01,  4.9870e-02, -9.7759e-02,\n",
              "                        2.0104e-01,  5.3904e-02,  2.5868e-01,  3.8965e-02, -1.0107e-01],\n",
              "                      [ 7.3961e-02, -8.5659e-02,  1.3418e-01,  2.8746e-01,  1.7360e-01,\n",
              "                       -1.4890e-01,  1.7380e-01,  5.0610e-02,  1.5225e-01, -1.9021e-01],\n",
              "                      [-3.0274e-01, -1.2231e-01, -2.4359e-01,  2.5464e-01,  9.9754e-02,\n",
              "                        1.4098e-01,  1.0822e-01,  1.1493e-04,  2.5530e-01, -2.2706e-01],\n",
              "                      [ 9.8582e-03, -2.1573e-01,  9.8514e-02, -1.0420e-01,  8.8464e-02,\n",
              "                       -7.5627e-02,  2.5427e-01, -1.9290e-01, -1.9622e-01, -1.8629e-01],\n",
              "                      [ 2.8195e-01,  1.0543e-01,  3.0454e-01, -2.5979e-01, -3.1577e-01,\n",
              "                       -2.4982e-01, -2.1471e-01,  1.2672e-01,  1.1134e-01,  2.6333e-01],\n",
              "                      [-1.6061e-01, -2.1559e-01,  1.6752e-01, -1.2907e-01,  1.9417e-01,\n",
              "                       -7.2434e-02,  1.8304e-01, -2.4424e-01, -1.5754e-01,  9.5794e-02],\n",
              "                      [ 7.3800e-02, -8.0687e-02,  1.8780e-01,  2.1174e-01, -2.2351e-01,\n",
              "                       -1.6210e-01,  2.9508e-01, -1.0294e-01, -1.0684e-01, -3.0758e-01],\n",
              "                      [-1.7063e-01,  7.8939e-02, -4.2774e-02, -2.3437e-01,  1.6105e-02,\n",
              "                       -2.0590e-01, -2.5998e-01, -1.6848e-01, -2.6885e-01, -2.0375e-01],\n",
              "                      [ 3.2859e-01,  5.9590e-02,  9.6199e-02, -3.0079e-01, -1.9720e-01,\n",
              "                       -9.3149e-02,  5.9396e-02, -2.7146e-01, -1.2678e-01, -1.9219e-01],\n",
              "                      [-1.0192e-02, -1.1753e-01, -2.0802e-02, -2.0908e-01, -2.2639e-01,\n",
              "                       -1.9523e-01, -1.1707e-01, -2.5563e-01,  2.5674e-01, -6.0206e-02]],\n",
              "                     device='cuda:0')),\n",
              "             ('layer_1.1.bias',\n",
              "              tensor([ 0.2706,  0.1013, -0.2704,  0.2214, -0.0864, -0.1219, -0.2642, -0.3170,\n",
              "                       0.0873, -0.0663], device='cuda:0')),\n",
              "             ('layer_1.2.weight',\n",
              "              tensor([[ 0.1454, -0.2485,  0.2434, -0.2316, -0.0626,  0.0606,  0.1559,  0.2274,\n",
              "                        0.2881, -0.2624]], device='cuda:0')),\n",
              "             ('layer_1.2.bias', tensor([0.0687], device='cuda:0'))])"
            ]
          },
          "metadata": {},
          "execution_count": 65
        }
      ]
    },
    {
      "cell_type": "markdown",
      "source": [
        "##8.多分类\n"
      ],
      "metadata": {
        "id": "rFWQd5XdwsRf"
      }
    },
    {
      "cell_type": "code",
      "source": [
        "import torch\n",
        "from torch import nn\n",
        "import matplotlib.pyplot as plt\n",
        "from sklearn.datasets import make_blobs\n",
        "from sklearn.model_selection import train_test_split\n",
        "import pandas as pd\n",
        "import numpy as np\n",
        "\n",
        "NUM_CLASSES = 4\n",
        "NUM_FEATURES = 2\n",
        "RANDOM_SEED = 42\n",
        "\n",
        "X_blob,y_blob = make_blobs(n_samples = 1000,\n",
        "                           n_features = NUM_FEATURES,\n",
        "                           centers = NUM_CLASSES,\n",
        "                           cluster_std = 1.5,\n",
        "                           random_state = RANDOM_SEED)\n",
        "\n",
        "X_blob = torch.from_numpy(X_blob).type(torch.float)\n",
        "y_blob = torch.from_numpy(y_blob).type(torch.LongTensor)\n",
        "X_blob_train,X_blob_test,y_blob_train,y_blob_test = train_test_split(X_blob,y_blob,test_size = 0.2,random_state = RANDOM_SEED)\n",
        "plt.scatter(X_blob[:,0],X_blob[:,1],c = y_blob,cmap = plt.cm.RdYlBu)"
      ],
      "metadata": {
        "colab": {
          "base_uri": "https://localhost:8080/",
          "height": 448
        },
        "id": "tTFSAMl1voN1",
        "outputId": "8696edd7-2726-4ac7-8606-41c14431f33a"
      },
      "execution_count": 36,
      "outputs": [
        {
          "output_type": "execute_result",
          "data": {
            "text/plain": [
              "<matplotlib.collections.PathCollection at 0x7a5859771c60>"
            ]
          },
          "metadata": {},
          "execution_count": 36
        },
        {
          "output_type": "display_data",
          "data": {
            "text/plain": [
              "<Figure size 640x480 with 1 Axes>"
            ],
            "image/png": "[encoded data removed]"
          },
          "metadata": {}
        }
      ]
    },
    {
      "cell_type": "code",
      "source": [
        "device = \"cuda\" if torch.cuda.is_available() else \"cpu\"\n",
        "device\n"
      ],
      "metadata": {
        "colab": {
          "base_uri": "https://localhost:8080/",
          "height": 35
        },
        "id": "aQqqHrSV1TQ8",
        "outputId": "9738cb8a-e5de-4864-9766-f14956fcf63f"
      },
      "execution_count": 24,
      "outputs": [
        {
          "data": {
            "application/vnd.google.colaboratory.intrinsic+json": {
              "type": "string"
            },
            "text/plain": [
              "'cpu'"
            ]
          },
          "execution_count": 24,
          "metadata": {},
          "output_type": "execute_result"
        }
      ]
    },
    {
      "cell_type": "code",
      "source": [
        "class BlobModel(nn.Module):\n",
        "  def __init__(self,input_features,output_features,hidden_units=8):\n",
        "    \"\"\"\n",
        "    args:\n",
        "    input feature(int):number of input features to the model\n",
        "    output_features(int):number of output features of the model\n",
        "    hidden_units(int):number of hidden units between layers,default = 8\n",
        "    \"\"\"\n",
        "    super().__init__()\n",
        "    self.linear_layer_stack = nn.Sequential(\n",
        "        nn.Linear(in_features = input_features,out_features = hidden_units),\n",
        "        nn.ReLU(),\n",
        "        nn.Linear(in_features = hidden_units,out_features = hidden_units),\n",
        "        nn.ReLU(),\n",
        "        nn.Linear(in_features = hidden_units,out_features =output_features)\n",
        "        )\n",
        "  def forward(self,x):\n",
        "    return self.linear_layer_stack(x)\n",
        "\n",
        "model_3 = BlobModel(input_features = NUM_FEATURES,output_features = NUM_CLASSES)\n",
        "model_3.to(device)\n"
      ],
      "metadata": {
        "colab": {
          "base_uri": "https://localhost:8080/"
        },
        "id": "wD18bESJ1vNJ",
        "outputId": "9f86314b-6eac-4e48-d249-3afdef0065a0"
      },
      "execution_count": 25,
      "outputs": [
        {
          "output_type": "execute_result",
          "data": {
            "text/plain": [
              "BlobModel(\n",
              "  (linear_layer_stack): Sequential(\n",
              "    (0): Linear(in_features=2, out_features=8, bias=True)\n",
              "    (1): ReLU()\n",
              "    (2): Linear(in_features=8, out_features=8, bias=True)\n",
              "    (3): ReLU()\n",
              "    (4): Linear(in_features=8, out_features=4, bias=True)\n",
              "  )\n",
              ")"
            ]
          },
          "metadata": {},
          "execution_count": 25
        }
      ]
    },
    {
      "cell_type": "code",
      "source": [
        "# 损失函数\n",
        "loss_fn = nn.CrossEntropyLoss()\n",
        "# youhuaqi\n",
        "optimizer = torch.optim.SGD(params = model_3.parameters(),lr = 0.1)"
      ],
      "metadata": {
        "id": "wcgai-EVo7sb"
      },
      "execution_count": 26,
      "outputs": []
    },
    {
      "cell_type": "markdown",
      "source": [
        "### 8.4 logits->概率->标签\n"
      ],
      "metadata": {
        "id": "_iQTRxMnqwoq"
      }
    },
    {
      "cell_type": "code",
      "source": [
        "model_3.eval()\n",
        "with torch.inference_mode():\n",
        "  logits = model_3(X_blob_test.to(device))\n",
        "logits[:10]"
      ],
      "metadata": {
        "colab": {
          "base_uri": "https://localhost:8080/"
        },
        "id": "jMsGeUWqqnWl",
        "outputId": "7a06a472-ae8d-4bd2-ced6-920240b234e5"
      },
      "execution_count": 37,
      "outputs": [
        {
          "output_type": "execute_result",
          "data": {
            "text/plain": [
              "tensor([[-0.7646, -0.7412, -1.5777, -1.1376],\n",
              "        [-0.0973, -0.9431, -0.5963, -0.1371],\n",
              "        [ 0.2528, -0.2379,  0.1882, -0.0066],\n",
              "        [-0.4134, -0.5204, -0.9303, -0.6963],\n",
              "        [-0.3118, -1.3736, -1.1991, -0.3834],\n",
              "        [-0.1497, -1.0617, -0.7107, -0.1645],\n",
              "        [ 0.1539, -0.2887,  0.1520, -0.0109],\n",
              "        [-0.2154, -1.1795, -0.9300, -0.2745],\n",
              "        [ 0.2443, -0.2472,  0.1649,  0.0061],\n",
              "        [-0.2329, -1.2120, -0.9849, -0.3004]])"
            ]
          },
          "metadata": {},
          "execution_count": 37
        }
      ]
    },
    {
      "cell_type": "code",
      "source": [
        "# logits->gailv\n",
        "y_pred_probs = torch.softmax(logits,dim = 1)\n",
        "y_pred_probs[:10]"
      ],
      "metadata": {
        "colab": {
          "base_uri": "https://localhost:8080/"
        },
        "id": "44kQ6nPsq9eH",
        "outputId": "5a2f3252-d8ca-4067-a5f3-b8d5228c9a19"
      },
      "execution_count": 28,
      "outputs": [
        {
          "output_type": "execute_result",
          "data": {
            "text/plain": [
              "tensor([[0.3244, 0.2211, 0.1994, 0.2551],\n",
              "        [0.3141, 0.2181, 0.2030, 0.2649],\n",
              "        [0.5426, 0.0797, 0.2869, 0.0909],\n",
              "        [0.3170, 0.2076, 0.2285, 0.2469],\n",
              "        [0.3655, 0.2321, 0.1825, 0.2198],\n",
              "        [0.3164, 0.2189, 0.2020, 0.2627],\n",
              "        [0.5305, 0.0819, 0.2946, 0.0930],\n",
              "        [0.3495, 0.2285, 0.1888, 0.2331],\n",
              "        [0.5755, 0.0695, 0.2763, 0.0787],\n",
              "        [0.3548, 0.2298, 0.1867, 0.2287]])"
            ]
          },
          "metadata": {},
          "execution_count": 28
        }
      ]
    },
    {
      "cell_type": "code",
      "source": [
        "torch.sum(y_pred_probs[0])"
      ],
      "metadata": {
        "colab": {
          "base_uri": "https://localhost:8080/"
        },
        "id": "Bwvk15Gtr2Jv",
        "outputId": "438abc5a-a239-4a05-ff94-45bae503bd3d"
      },
      "execution_count": 17,
      "outputs": [
        {
          "output_type": "execute_result",
          "data": {
            "text/plain": [
              "tensor(1.0000)"
            ]
          },
          "metadata": {},
          "execution_count": 17
        }
      ]
    },
    {
      "cell_type": "code",
      "source": [
        "# gailv->label\n",
        "y_pred = torch.argmax(y_pred_probs,dim = 1)\n",
        "y_pred[:10]"
      ],
      "metadata": {
        "colab": {
          "base_uri": "https://localhost:8080/"
        },
        "id": "zA9G2-FesEi4",
        "outputId": "ccfa3098-8052-48e4-bfd5-5e3fd218d0e1"
      },
      "execution_count": 29,
      "outputs": [
        {
          "output_type": "execute_result",
          "data": {
            "text/plain": [
              "tensor([0, 0, 0, 0, 0, 0, 0, 0, 0, 0])"
            ]
          },
          "metadata": {},
          "execution_count": 29
        }
      ]
    },
    {
      "cell_type": "code",
      "source": [
        "X_blob_train.dtype"
      ],
      "metadata": {
        "colab": {
          "base_uri": "https://localhost:8080/"
        },
        "id": "px5otVCJv3d8",
        "outputId": "771091f1-cf0f-4c76-f9db-513bab81262b"
      },
      "execution_count": 32,
      "outputs": [
        {
          "output_type": "execute_result",
          "data": {
            "text/plain": [
              "torch.int64"
            ]
          },
          "metadata": {},
          "execution_count": 32
        }
      ]
    },
    {
      "cell_type": "markdown",
      "source": [
        "###8.3Train"
      ],
      "metadata": {
        "id": "o5ilNBBdsjt0"
      }
    },
    {
      "cell_type": "code",
      "source": [
        "torch.manual_seed(42)\n",
        "torch.cuda.manual_seed(42)\n",
        "epochs = 1000\n",
        "\n",
        "X_blob_train,X_blob_test,y_blob_train,y_blob_test = X_blob_train.to(device),X_blob_test.to(device),y_blob_train.to(device),y_blob_test.to(device)\n",
        "X_blob_train.dtype\n",
        "for epoch in range(epochs):\n",
        "  model_3.train()\n",
        "  y_logits = model_3(X_blob_train)\n",
        "  y_pred = torch.softmax(y_logits,dim = 1).argmax(dim = 1)\n",
        "  loss = loss_fn(y_logits,y_blob_train.to(device))\n",
        "  acc = accuracy_fn(y_true = y_blob_train,y_pred = y_pred)\n",
        "  optimizer.zero_grad()\n",
        "  loss.backward()\n",
        "  optimizer.step()\n",
        "  model_3.eval()\n",
        "  with torch.inference_mode():\n",
        "    test_logits = model_3(X_blob_test.to(device))\n",
        "    test_pred = torch.softmax(test_logits,dim = 1).argmax(dim = 1)\n",
        "    test_loss = loss_fn(test_logits,y_blob_test.to(device))\n",
        "    test_acc = accuracy_fn(y_true = y_blob_test,y_pred = test_pred)\n",
        "  if epoch % 10 ==0:\n",
        "    print(f\"epoch:{epoch}|train_loss:{loss}|train_acc:{acc}|test_loss:{test_loss}|test_acc:{test_acc}\")\n",
        ""
      ],
      "metadata": {
        "colab": {
          "base_uri": "https://localhost:8080/"
        },
        "id": "NFUMtYqisXPg",
        "outputId": "9c4ebe7f-0370-4fb2-f6ee-f3fb5e61b9f8"
      },
      "execution_count": 40,
      "outputs": [
        {
          "output_type": "stream",
          "name": "stdout",
          "text": [
            "epoch:0|train_loss:1.1588267087936401|train_acc:40.375|test_loss:1.0755422115325928|test_acc:48.0\n",
            "epoch:10|train_loss:0.6447553038597107|train_acc:96.75|test_loss:0.660687267780304|test_acc:97.5\n",
            "epoch:20|train_loss:0.4253515303134918|train_acc:98.5|test_loss:0.43074119091033936|test_acc:100.0\n",
            "epoch:30|train_loss:0.2529422640800476|train_acc:99.125|test_loss:0.24507610499858856|test_acc:99.5\n",
            "epoch:40|train_loss:0.11232147365808487|train_acc:99.25|test_loss:0.10228512436151505|test_acc:99.5\n",
            "epoch:50|train_loss:0.06626509130001068|train_acc:99.25|test_loss:0.058475371450185776|test_acc:99.5\n",
            "epoch:60|train_loss:0.05068016052246094|train_acc:99.25|test_loss:0.042932283133268356|test_acc:99.5\n",
            "epoch:70|train_loss:0.04299675300717354|train_acc:99.25|test_loss:0.034909654408693314|test_acc:99.5\n",
            "epoch:80|train_loss:0.038361385464668274|train_acc:99.25|test_loss:0.02987821027636528|test_acc:99.5\n",
            "epoch:90|train_loss:0.03524842858314514|train_acc:99.25|test_loss:0.02662651054561138|test_acc:99.5\n",
            "epoch:100|train_loss:0.033122193068265915|train_acc:99.25|test_loss:0.024326978251338005|test_acc:99.5\n",
            "epoch:110|train_loss:0.03160198777914047|train_acc:99.25|test_loss:0.022610709071159363|test_acc:99.5\n",
            "epoch:120|train_loss:0.030443642288446426|train_acc:99.25|test_loss:0.021263044327497482|test_acc:99.5\n",
            "epoch:130|train_loss:0.02957981824874878|train_acc:99.25|test_loss:0.020221002399921417|test_acc:99.5\n",
            "epoch:140|train_loss:0.02889288403093815|train_acc:99.25|test_loss:0.019396623596549034|test_acc:99.5\n",
            "epoch:150|train_loss:0.028333766385912895|train_acc:99.25|test_loss:0.018721846863627434|test_acc:99.5\n",
            "epoch:160|train_loss:0.027868378907442093|train_acc:99.25|test_loss:0.018153904005885124|test_acc:99.5\n",
            "epoch:170|train_loss:0.02747184969484806|train_acc:99.25|test_loss:0.017664046958088875|test_acc:99.5\n",
            "epoch:180|train_loss:0.02713010087609291|train_acc:99.25|test_loss:0.017234908416867256|test_acc:99.5\n",
            "epoch:190|train_loss:0.026832645758986473|train_acc:99.25|test_loss:0.016852740198373795|test_acc:99.5\n",
            "epoch:200|train_loss:0.026571374386548996|train_acc:99.25|test_loss:0.01651209406554699|test_acc:99.5\n",
            "epoch:210|train_loss:0.026339925825595856|train_acc:99.25|test_loss:0.016207091510295868|test_acc:99.5\n",
            "epoch:220|train_loss:0.02613317221403122|train_acc:99.25|test_loss:0.015934128314256668|test_acc:99.5\n",
            "epoch:230|train_loss:0.02594763971865177|train_acc:99.25|test_loss:0.015680911019444466|test_acc:99.5\n",
            "epoch:240|train_loss:0.025780100375413895|train_acc:99.25|test_loss:0.015450363047420979|test_acc:99.5\n",
            "epoch:250|train_loss:0.025627808645367622|train_acc:99.25|test_loss:0.015238426625728607|test_acc:99.5\n",
            "epoch:260|train_loss:0.02548850327730179|train_acc:99.25|test_loss:0.015043633058667183|test_acc:99.5\n",
            "epoch:270|train_loss:0.0253604706376791|train_acc:99.25|test_loss:0.014863669872283936|test_acc:99.5\n",
            "epoch:280|train_loss:0.025242095813155174|train_acc:99.25|test_loss:0.014696602709591389|test_acc:99.5\n",
            "epoch:290|train_loss:0.02513217367231846|train_acc:99.25|test_loss:0.014541801996529102|test_acc:99.5\n",
            "epoch:300|train_loss:0.02502962201833725|train_acc:99.25|test_loss:0.01439980510622263|test_acc:99.5\n",
            "epoch:310|train_loss:0.024933934211730957|train_acc:99.25|test_loss:0.014265728183090687|test_acc:99.5\n",
            "epoch:320|train_loss:0.024844283238053322|train_acc:99.25|test_loss:0.014137147925794125|test_acc:99.5\n",
            "epoch:330|train_loss:0.024759840220212936|train_acc:99.25|test_loss:0.0140167735517025|test_acc:99.5\n",
            "epoch:340|train_loss:0.024680009111762047|train_acc:99.25|test_loss:0.013903704471886158|test_acc:99.5\n",
            "epoch:350|train_loss:0.0246043149381876|train_acc:99.25|test_loss:0.013797147199511528|test_acc:99.5\n",
            "epoch:360|train_loss:0.024532312527298927|train_acc:99.25|test_loss:0.013697567395865917|test_acc:99.5\n",
            "epoch:370|train_loss:0.024463653564453125|train_acc:99.25|test_loss:0.013604607433080673|test_acc:99.5\n",
            "epoch:380|train_loss:0.02439800649881363|train_acc:99.25|test_loss:0.013516421429812908|test_acc:99.5\n",
            "epoch:390|train_loss:0.024335119873285294|train_acc:99.25|test_loss:0.013432903215289116|test_acc:99.5\n",
            "epoch:400|train_loss:0.024274729192256927|train_acc:99.25|test_loss:0.013353499583899975|test_acc:99.5\n",
            "epoch:410|train_loss:0.024216623976826668|train_acc:99.25|test_loss:0.013277869671583176|test_acc:99.5\n",
            "epoch:420|train_loss:0.024160606786608696|train_acc:99.25|test_loss:0.013205722905695438|test_acc:99.5\n",
            "epoch:430|train_loss:0.024106517434120178|train_acc:99.25|test_loss:0.013136744499206543|test_acc:99.5\n",
            "epoch:440|train_loss:0.024054206907749176|train_acc:99.25|test_loss:0.013070696964859962|test_acc:99.5\n",
            "epoch:450|train_loss:0.024003829807043076|train_acc:99.25|test_loss:0.013006470166146755|test_acc:99.5\n",
            "epoch:460|train_loss:0.02395526133477688|train_acc:99.25|test_loss:0.012934722937643528|test_acc:99.5\n",
            "epoch:470|train_loss:0.02390817180275917|train_acc:99.25|test_loss:0.012868349440395832|test_acc:99.5\n",
            "epoch:480|train_loss:0.02386247180402279|train_acc:99.25|test_loss:0.012807071208953857|test_acc:99.5\n",
            "epoch:490|train_loss:0.023818042129278183|train_acc:99.25|test_loss:0.012742382474243641|test_acc:99.5\n",
            "epoch:500|train_loss:0.023774774745106697|train_acc:99.25|test_loss:0.012686330825090408|test_acc:99.5\n",
            "epoch:510|train_loss:0.023732585832476616|train_acc:99.25|test_loss:0.012628685683012009|test_acc:99.5\n",
            "epoch:520|train_loss:0.023691438138484955|train_acc:99.25|test_loss:0.01257319375872612|test_acc:99.5\n",
            "epoch:530|train_loss:0.023651273921132088|train_acc:99.25|test_loss:0.01251973770558834|test_acc:99.5\n",
            "epoch:540|train_loss:0.023611944168806076|train_acc:99.25|test_loss:0.012464442290365696|test_acc:99.5\n",
            "epoch:550|train_loss:0.02357349917292595|train_acc:99.25|test_loss:0.012416787445545197|test_acc:99.5\n",
            "epoch:560|train_loss:0.023535802960395813|train_acc:99.25|test_loss:0.012367797084152699|test_acc:99.5\n",
            "epoch:570|train_loss:0.023498909547924995|train_acc:99.25|test_loss:0.012316597625613213|test_acc:99.5\n",
            "epoch:580|train_loss:0.02346271090209484|train_acc:99.25|test_loss:0.012273729778826237|test_acc:99.5\n",
            "epoch:590|train_loss:0.023427162319421768|train_acc:99.25|test_loss:0.012227976694703102|test_acc:99.5\n",
            "epoch:600|train_loss:0.02339225262403488|train_acc:99.25|test_loss:0.012183870188891888|test_acc:99.5\n",
            "epoch:610|train_loss:0.02335793897509575|train_acc:99.25|test_loss:0.01213696040213108|test_acc:99.5\n",
            "epoch:620|train_loss:0.0233241505920887|train_acc:99.25|test_loss:0.012095089070498943|test_acc:99.5\n",
            "epoch:630|train_loss:0.02329094707965851|train_acc:99.25|test_loss:0.012057465501129627|test_acc:99.5\n",
            "epoch:640|train_loss:0.023258280009031296|train_acc:99.25|test_loss:0.01201705727726221|test_acc:99.5\n",
            "epoch:650|train_loss:0.023226045072078705|train_acc:99.25|test_loss:0.011974439956247807|test_acc:99.5\n",
            "epoch:660|train_loss:0.023194311186671257|train_acc:99.25|test_loss:0.011939844116568565|test_acc:99.5\n",
            "epoch:670|train_loss:0.02316301129758358|train_acc:99.25|test_loss:0.011898215860128403|test_acc:99.5\n",
            "epoch:680|train_loss:0.023132121190428734|train_acc:99.25|test_loss:0.011865425854921341|test_acc:99.5\n",
            "epoch:690|train_loss:0.02310163900256157|train_acc:99.25|test_loss:0.011825408786535263|test_acc:99.5\n",
            "epoch:700|train_loss:0.02307157590985298|train_acc:99.25|test_loss:0.011793375946581364|test_acc:99.5\n",
            "epoch:710|train_loss:0.023041846230626106|train_acc:99.25|test_loss:0.011758804321289062|test_acc:99.5\n",
            "epoch:720|train_loss:0.023012518882751465|train_acc:99.25|test_loss:0.01172077190130949|test_acc:99.5\n",
            "epoch:730|train_loss:0.022983526811003685|train_acc:99.25|test_loss:0.011690882034599781|test_acc:99.5\n",
            "epoch:740|train_loss:0.02295483648777008|train_acc:99.25|test_loss:0.011658395640552044|test_acc:99.5\n",
            "epoch:750|train_loss:0.022926481440663338|train_acc:99.25|test_loss:0.01162570808082819|test_acc:99.5\n",
            "epoch:760|train_loss:0.022898511961102486|train_acc:99.25|test_loss:0.011594325304031372|test_acc:99.5\n",
            "epoch:770|train_loss:0.022870756685733795|train_acc:99.25|test_loss:0.011563414707779884|test_acc:99.5\n",
            "epoch:780|train_loss:0.02284330129623413|train_acc:99.25|test_loss:0.011532354168593884|test_acc:99.5\n",
            "epoch:790|train_loss:0.022816127166152|train_acc:99.25|test_loss:0.011501751840114594|test_acc:99.5\n",
            "epoch:800|train_loss:0.02278922125697136|train_acc:99.25|test_loss:0.011468163691461086|test_acc:99.5\n",
            "epoch:810|train_loss:0.022762618958950043|train_acc:99.25|test_loss:0.01144274603575468|test_acc:99.5\n",
            "epoch:820|train_loss:0.022736208513379097|train_acc:99.25|test_loss:0.011413424275815487|test_acc:99.5\n",
            "epoch:830|train_loss:0.022710049524903297|train_acc:99.25|test_loss:0.01138533279299736|test_acc:99.5\n",
            "epoch:840|train_loss:0.022684114053845406|train_acc:99.25|test_loss:0.011356995441019535|test_acc:99.5\n",
            "epoch:850|train_loss:0.022658400237560272|train_acc:99.25|test_loss:0.0113289225846529|test_acc:99.5\n",
            "epoch:860|train_loss:0.02263292297720909|train_acc:99.25|test_loss:0.011297741904854774|test_acc:99.5\n",
            "epoch:870|train_loss:0.022607693448662758|train_acc:99.25|test_loss:0.011270349845290184|test_acc:99.5\n",
            "epoch:880|train_loss:0.0225826445966959|train_acc:99.25|test_loss:0.011247831396758556|test_acc:99.5\n",
            "epoch:890|train_loss:0.02255776897072792|train_acc:99.25|test_loss:0.011221926659345627|test_acc:99.5\n",
            "epoch:900|train_loss:0.022533094510436058|train_acc:99.25|test_loss:0.011195656843483448|test_acc:99.5\n",
            "epoch:910|train_loss:0.022508613765239716|train_acc:99.25|test_loss:0.01116960495710373|test_acc:99.5\n",
            "epoch:920|train_loss:0.02248431369662285|train_acc:99.25|test_loss:0.011143815703690052|test_acc:99.5\n",
            "epoch:930|train_loss:0.02246023342013359|train_acc:99.25|test_loss:0.011114715598523617|test_acc:99.5\n",
            "epoch:940|train_loss:0.022436318919062614|train_acc:99.25|test_loss:0.01109404768794775|test_acc:99.5\n",
            "epoch:950|train_loss:0.022412538528442383|train_acc:99.25|test_loss:0.011069831438362598|test_acc:99.5\n",
            "epoch:960|train_loss:0.02238893322646618|train_acc:99.25|test_loss:0.011045357212424278|test_acc:99.5\n",
            "epoch:970|train_loss:0.02236548811197281|train_acc:99.25|test_loss:0.011021146550774574|test_acc:99.5\n",
            "epoch:980|train_loss:0.022342229261994362|train_acc:99.25|test_loss:0.010993549600243568|test_acc:99.5\n",
            "epoch:990|train_loss:0.022319138050079346|train_acc:99.25|test_loss:0.010974455624818802|test_acc:99.5\n"
          ]
        }
      ]
    },
    {
      "cell_type": "markdown",
      "source": [
        "###other 指标\n",
        "* accuracy\n",
        "* F1-Score\n",
        "* ..."
      ],
      "metadata": {
        "id": "NA7Rv6kTxlNd"
      }
    },
    {
      "cell_type": "code",
      "source": [
        "!pip install torchmetrics"
      ],
      "metadata": {
        "colab": {
          "base_uri": "https://localhost:8080/"
        },
        "id": "oy6zf9v6uRFf",
        "outputId": "6e21d6a7-152f-4fa3-f0ab-32c27a4a5084"
      },
      "execution_count": 41,
      "outputs": [
        {
          "output_type": "stream",
          "name": "stdout",
          "text": [
            "Collecting torchmetrics\n",
            "  Downloading torchmetrics-1.6.0-py3-none-any.whl.metadata (20 kB)\n",
            "Requirement already satisfied: numpy>1.20.0 in /usr/local/lib/python3.10/dist-packages (from torchmetrics) (1.26.4)\n",
            "Requirement already satisfied: packaging>17.1 in /usr/local/lib/python3.10/dist-packages (from torchmetrics) (24.2)\n",
            "Requirement already satisfied: torch>=2.0.0 in /usr/local/lib/python3.10/dist-packages (from torchmetrics) (2.5.1+cu121)\n",
            "Collecting lightning-utilities>=0.8.0 (from torchmetrics)\n",
            "  Downloading lightning_utilities-0.11.9-py3-none-any.whl.metadata (5.2 kB)\n",
            "Requirement already satisfied: setuptools in /usr/local/lib/python3.10/dist-packages (from lightning-utilities>=0.8.0->torchmetrics) (75.1.0)\n",
            "Requirement already satisfied: typing-extensions in /usr/local/lib/python3.10/dist-packages (from lightning-utilities>=0.8.0->torchmetrics) (4.12.2)\n",
            "Requirement already satisfied: filelock in /usr/local/lib/python3.10/dist-packages (from torch>=2.0.0->torchmetrics) (3.16.1)\n",
            "Requirement already satisfied: networkx in /usr/local/lib/python3.10/dist-packages (from torch>=2.0.0->torchmetrics) (3.4.2)\n",
            "Requirement already satisfied: jinja2 in /usr/local/lib/python3.10/dist-packages (from torch>=2.0.0->torchmetrics) (3.1.4)\n",
            "Requirement already satisfied: fsspec in /usr/local/lib/python3.10/dist-packages (from torch>=2.0.0->torchmetrics) (2024.10.0)\n",
            "Requirement already satisfied: sympy==1.13.1 in /usr/local/lib/python3.10/dist-packages (from torch>=2.0.0->torchmetrics) (1.13.1)\n",
            "Requirement already satisfied: mpmath<1.4,>=1.1.0 in /usr/local/lib/python3.10/dist-packages (from sympy==1.13.1->torch>=2.0.0->torchmetrics) (1.3.0)\n",
            "Requirement already satisfied: MarkupSafe>=2.0 in /usr/local/lib/python3.10/dist-packages (from jinja2->torch>=2.0.0->torchmetrics) (3.0.2)\n",
            "Downloading torchmetrics-1.6.0-py3-none-any.whl (926 kB)\n",
            "\u001b[2K   \u001b[90m━━━━━━━━━━━━━━━━━━━━━━━━━━━━━━━━━━━━━━━━\u001b[0m \u001b[32m926.4/926.4 kB\u001b[0m \u001b[31m13.7 MB/s\u001b[0m eta \u001b[36m0:00:00\u001b[0m\n",
            "\u001b[?25hDownloading lightning_utilities-0.11.9-py3-none-any.whl (28 kB)\n",
            "Installing collected packages: lightning-utilities, torchmetrics\n",
            "Successfully installed lightning-utilities-0.11.9 torchmetrics-1.6.0\n"
          ]
        }
      ]
    },
    {
      "cell_type": "code",
      "source": [
        "from torchmetrics import Accuracy\n",
        "accuracy = Accuracy(task = \"multiclass\",num_classes = 4).to(device)\n",
        "accuracy(test_pred,y_blob_test)"
      ],
      "metadata": {
        "colab": {
          "base_uri": "https://localhost:8080/"
        },
        "id": "ClydEVSHx8Ep",
        "outputId": "a29890ee-17ae-4f18-d38b-a9c3c0fc8424"
      },
      "execution_count": 43,
      "outputs": [
        {
          "output_type": "execute_result",
          "data": {
            "text/plain": [
              "tensor(0.9950)"
            ]
          },
          "metadata": {},
          "execution_count": 43
        }
      ]
    },
    {
      "cell_type": "code",
      "source": [],
      "metadata": {
        "id": "tp9zHnXbyNJr"
      },
      "execution_count": null,
      "outputs": []
    }
  ],
  "metadata": {
    "colab": {
      "provenance": [],
      "authorship_tag": "ABX9TyOs5YdV2nWN40r0y+go8wEI",
      "include_colab_link": true
    },
    "kernelspec": {
      "display_name": "Python 3",
      "name": "python3"
    },
    "language_info": {
      "name": "python"
    }
  },
  "nbformat": 4,
  "nbformat_minor": 0
}